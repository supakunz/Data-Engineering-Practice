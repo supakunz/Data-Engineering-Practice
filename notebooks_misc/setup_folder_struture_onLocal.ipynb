{
 "cells": [
  {
   "cell_type": "markdown",
   "id": "a47b58f7",
   "metadata": {},
   "source": [
    "#### ✅ Step-by-Step: เตรียม Local ETL Project แบบงานจริง"
   ]
  },
  {
   "cell_type": "markdown",
   "id": "f9a1ba8f",
   "metadata": {},
   "source": [
    "##### 1. สร้างโฟลเดอร์โปรเจกต์"
   ]
  },
  {
   "cell_type": "code",
   "execution_count": null,
   "id": "2e67cc88",
   "metadata": {
    "vscode": {
     "languageId": "latex"
    }
   },
   "outputs": [],
   "source": [
    "  mkdir etl-sales-pipeline\n",
    "  cd etl-sales-pipeline"
   ]
  },
  {
   "cell_type": "markdown",
   "id": "a903af89",
   "metadata": {},
   "source": [
    "##### 2. โครงสร้างไฟล์ที่แนะนำ (ตาม best practice)"
   ]
  },
  {
   "cell_type": "code",
   "execution_count": null,
   "id": "90f92ec5",
   "metadata": {
    "vscode": {
     "languageId": "ini"
    }
   },
   "outputs": [],
   "source": [
    "etl-sales-pipeline/\n",
    "│\n",
    "├── data/                  ← เก็บ raw, processed, output data\n",
    "│   ├── raw/\n",
    "│   ├── processed/\n",
    "│   └── output/\n",
    "│\n",
    "├── etl/                   ← โค้ดหลักของ ETL\n",
    "│   ├── extract.py         ← โหลดข้อมูลจากแหล่งต่างๆ (API, CSV)\n",
    "│   ├── transform.py       ← จัดรูปแบบ, clean, enrich ข้อมูล\n",
    "│   ├── load.py            ← เซฟลงไฟล์ / DB / Cloud storage\n",
    "│   └── utils.py           ← ฟังก์ชันช่วย (เช่น logging, date parsing)\n",
    "│\n",
    "├── config/                ← พวก config file, credential, parameter\n",
    "│   └── config.yaml\n",
    "│\n",
    "├── jobs/                  ← script ที่ใช้รัน pipeline ตามวัน\n",
    "│   └── run_etl.py\n",
    "│\n",
    "├── notebooks/             ← สำหรับทดลองบน notebook ชั่วคราว\n",
    "│   └── eda_transform.ipynb\n",
    "│\n",
    "├── requirements.txt       ← รายการ dependencies\n",
    "├── .env                   ← เก็บความลับ (เช่น API key)\n",
    "└── README.md\n"
   ]
  },
  {
   "cell_type": "markdown",
   "id": "b918c5f3",
   "metadata": {},
   "source": [
    "| โฟลเดอร์     | ใช้สำหรับ                                                                                 | ตัวอย่าง                                          |\n",
    "| ------------ | ----------------------------------------------------------------------------------------- | ------------------------------------------------- |\n",
    "| `raw/`       | ข้อมูลต้นฉบับที่ยังไม่แตะต้อง                                                             | raw CSV, JSON จาก API                             |\n",
    "| `processed/` | ข้อมูลที่ผ่านการ clean / transform เบื้องต้น เช่น remove null, filter outliers, cast type | `book_sales_cleaned.csv`                          |\n",
    "| `output/`    | ข้อมูลสุดท้ายสำหรับแสดงผล, BI, dashboard, export to report                                | `monthly_sales_summary.csv`, `top_books_2024.csv` |\n"
   ]
  },
  {
   "cell_type": "markdown",
   "id": "4237b433",
   "metadata": {
    "vscode": {
     "languageId": "latex"
    }
   },
   "source": [
    "##### 3. ติดตั้ง environment\n"
   ]
  },
  {
   "cell_type": "code",
   "execution_count": null,
   "id": "6855b50b",
   "metadata": {
    "vscode": {
     "languageId": "latex"
    }
   },
   "outputs": [],
   "source": [
    "python -m venv venv\n",
    "source venv/bin/activate      # บน Linux/macOS\n",
    "# หรือ venv\\Scripts\\activate  # บน Windows\n",
    "\n",
    "pip install pyspark python-dotenv pyyaml"
   ]
  },
  {
   "cell_type": "code",
   "execution_count": null,
   "id": "56dee40a",
   "metadata": {
    "vscode": {
     "languageId": "ini"
    }
   },
   "outputs": [],
   "source": [
    "# requirements.txt\n",
    "pyspark\n",
    "python-dotenv\n",
    "pyyaml"
   ]
  },
  {
   "cell_type": "markdown",
   "id": "dcc27d9c",
   "metadata": {},
   "source": [
    "##### 4. สร้าง `config.yaml` ตัวอย่าง"
   ]
  },
  {
   "cell_type": "code",
   "execution_count": null,
   "id": "40f177eb",
   "metadata": {
    "vscode": {
     "languageId": "latex"
    }
   },
   "outputs": [],
   "source": [
    "data_source:\n",
    "  csv_path: \"data/raw/sales_data.csv\"\n",
    "\n",
    "output:\n",
    "  parquet_path: \"data/output/sales_summary.parquet\""
   ]
  },
  {
   "cell_type": "markdown",
   "id": "f7de1294",
   "metadata": {},
   "source": [
    "##### 5. ตัวอย่าง `extract.py`"
   ]
  },
  {
   "cell_type": "code",
   "execution_count": null,
   "id": "7a00ab24",
   "metadata": {},
   "outputs": [],
   "source": [
    "from pyspark.sql import SparkSession\n",
    "\n",
    "def extract_csv(spark: SparkSession, path: str):\n",
    "    return spark.read.option(\"header\", True).csv(path)"
   ]
  },
  {
   "cell_type": "markdown",
   "id": "0a9e40be",
   "metadata": {},
   "source": [
    "##### 6. ตัวอย่าง `transform.py`"
   ]
  },
  {
   "cell_type": "code",
   "execution_count": null,
   "id": "0e2fc935",
   "metadata": {},
   "outputs": [],
   "source": [
    "from pyspark.sql import DataFrame\n",
    "from pyspark.sql.functions import col, to_date\n",
    "\n",
    "def clean_sales_data(df: DataFrame) -> DataFrame:\n",
    "    return (\n",
    "        df.withColumn(\"amount\", col(\"amount\").cast(\"float\"))\n",
    "          .withColumn(\"date\", to_date(col(\"date\"), \"yyyy-MM-dd\"))\n",
    "          .dropna()\n",
    "    )"
   ]
  },
  {
   "cell_type": "markdown",
   "id": "3a59081f",
   "metadata": {},
   "source": [
    "##### 7. ตัวอย่าง `load.py`"
   ]
  },
  {
   "cell_type": "code",
   "execution_count": null,
   "id": "16620a34",
   "metadata": {},
   "outputs": [],
   "source": [
    "def save_to_parquet(df, path: str):\n",
    "    df.write.mode(\"overwrite\").parquet(path)"
   ]
  },
  {
   "cell_type": "markdown",
   "id": "69f9ff9e",
   "metadata": {},
   "source": [
    "##### 8. Script สำหรับรันงาน `jobs/run_etl.py`"
   ]
  },
  {
   "cell_type": "code",
   "execution_count": null,
   "id": "41567164",
   "metadata": {},
   "outputs": [],
   "source": [
    "from pyspark.sql import SparkSession\n",
    "import yaml\n",
    "from etl.extract import extract_csv # # type: ignore\n",
    "from etl.transform import clean_sales_data # # type: ignore\n",
    "from etl.load import save_to_parquet # type: ignore\n",
    "\n",
    "# Load config\n",
    "with open(\"config/config.yaml\", \"r\") as f:\n",
    "    config = yaml.safe_load(f)\n",
    "\n",
    "spark = SparkSession.builder.appName(\"SalesETL\").getOrCreate()\n",
    "\n",
    "# ETL flow\n",
    "df_raw = extract_csv(spark, config[\"data_source\"][\"csv_path\"])\n",
    "df_clean = clean_sales_data(df_raw)\n",
    "save_to_parquet(df_clean, config[\"output\"][\"parquet_path\"])"
   ]
  },
  {
   "cell_type": "markdown",
   "id": "4c730722",
   "metadata": {},
   "source": [
    "##### 9. ตัวอย่างการรัน pipeline"
   ]
  },
  {
   "cell_type": "code",
   "execution_count": null,
   "id": "73874b2f",
   "metadata": {
    "vscode": {
     "languageId": "bat"
    }
   },
   "outputs": [],
   "source": [
    "python jobs/run_etl.py"
   ]
  },
  {
   "cell_type": "markdown",
   "id": "e3512ac7",
   "metadata": {},
   "source": [
    "##### 10.หากอยากดูผลลัพธ์ Parquet แบบเร็ว ๆ"
   ]
  },
  {
   "cell_type": "code",
   "execution_count": null,
   "id": "5f69407c",
   "metadata": {},
   "outputs": [],
   "source": [
    "df = spark.read.parquet(\"data/output/sales_summary.parquet\") # type: ignore\n",
    "df.show()"
   ]
  },
  {
   "cell_type": "markdown",
   "id": "a7758b2f",
   "metadata": {},
   "source": [
    "##### 🔁 สรุปขั้นตอน"
   ]
  },
  {
   "cell_type": "markdown",
   "id": "ccd3c44d",
   "metadata": {},
   "source": [
    "| Step | Task                                         |\n",
    "| ---- | -------------------------------------------- |\n",
    "| 1.   | สร้างโครงสร้างโปรเจกต์                       |\n",
    "| 2.   | แยกไฟล์ extract, transform, load             |\n",
    "| 3.   | ใช้ config / .env เพื่อแยก parameter         |\n",
    "| 4.   | รันผ่าน script (`jobs/run_etl.py`)           |\n",
    "| 5.   | ทดสอบกับ sample data จริง (CSV / JSON / API) |\n"
   ]
  }
 ],
 "metadata": {
  "language_info": {
   "name": "python"
  }
 },
 "nbformat": 4,
 "nbformat_minor": 5
}
