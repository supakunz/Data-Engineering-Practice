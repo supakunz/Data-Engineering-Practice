{
 "cells": [
  {
   "cell_type": "markdown",
   "id": "6f5af874",
   "metadata": {},
   "source": [
    "#### 📊 EDA Workflow for Data Engineer (with PySpark)"
   ]
  },
  {
   "cell_type": "markdown",
   "id": "7cb399c7",
   "metadata": {},
   "source": [
    "##### 🔁 1. Sampling & Basic Exploration"
   ]
  },
  {
   "cell_type": "markdown",
   "id": "899abce9",
   "metadata": {},
   "source": [
    " - ✅ Load ข้อมูลผ่าน Spark (`read.csv`, `read.parquet`, etc.)\n",
    "\n",
    " - ✅ ดู schema (`df.printSchema()`)\n",
    "\n",
    " - ✅ ดูจำนวน row (`df.count()`)\n",
    "\n",
    " - ✅ ดูตัวอย่างข้อมูล (`df.show(5)`)"
   ]
  },
  {
   "cell_type": "markdown",
   "id": "c99bd317",
   "metadata": {},
   "source": [
    "  🔹 ใช้ `.sample(fraction=0.05, seed=42)` แทน `.toPandas()`\n",
    " \n",
    "  🔹 ใช้ `.summary()` หรือ `.describe()` ดูค่าพื้นฐาน"
   ]
  },
  {
   "cell_type": "markdown",
   "id": "c11a88f7",
   "metadata": {},
   "source": [
    "#### 📐 2. Data Profiling (Statistical Summary)"
   ]
  },
  {
   "cell_type": "markdown",
   "id": "93fb7c75",
   "metadata": {},
   "source": [
    "- ✅ คำนวณค่ากลาง (mean, median)\n",
    "\n",
    "- ✅ Approx quantiles (Q1, Q3, IQR)"
   ]
  },
  {
   "cell_type": "code",
   "execution_count": null,
   "id": "0cf60323",
   "metadata": {},
   "outputs": [],
   "source": [
    "q1, q3 = df.approxQuantile(\"col\", [0.25, 0.75], 0.01) # type: ignore\n",
    "iqr = q3 - q1"
   ]
  },
  {
   "cell_type": "markdown",
   "id": "0d58e182",
   "metadata": {},
   "source": [
    "- ✅ ตรวจค่า missing/null"
   ]
  },
  {
   "cell_type": "code",
   "execution_count": null,
   "id": "c40b143c",
   "metadata": {},
   "outputs": [],
   "source": [
    "df.select([F.count(F.when(F.col(c).isNull(), 1)).alias(c) for c in df.columns]) # type: ignore"
   ]
  },
  {
   "cell_type": "markdown",
   "id": "b1716152",
   "metadata": {},
   "source": [
    "- ✅ ดู unique values ต่อ column"
   ]
  },
  {
   "cell_type": "code",
   "execution_count": null,
   "id": "cb04ee35",
   "metadata": {},
   "outputs": [],
   "source": [
    "df.select(\"col\").distinct().count() # type: ignore"
   ]
  },
  {
   "cell_type": "markdown",
   "id": "95a6dfc5",
   "metadata": {},
   "source": [
    "##### 📦 3. Data Quality Check"
   ]
  },
  {
   "cell_type": "markdown",
   "id": "730f8d86",
   "metadata": {},
   "source": [
    "- ✅ Null / Duplicate / Inconsistent Format\n",
    "\n",
    "- ✅ Data type mismatch (เช่นจำนวนที่เป็น string)\n",
    "\n",
    "- ✅ Logical errors (ex. quantity < 0)"
   ]
  },
  {
   "cell_type": "markdown",
   "id": "d02814c0",
   "metadata": {},
   "source": [
    "🔹 ใช้ `.filter()` และ `.isNull()` / `.isNotNull()` ตรวจ"
   ]
  },
  {
   "cell_type": "markdown",
   "id": "773dc5f8",
   "metadata": {},
   "source": [
    "##### 🚩 4. Outlier Detection"
   ]
  },
  {
   "cell_type": "markdown",
   "id": "67d58501",
   "metadata": {},
   "source": [
    "- ✅ IQR method (หรือ Z-score ถ้า normal)\n",
    "\n",
    "- ✅ กรองข้อมูลผิดปกติ (optional drop)\n",
    "\n",
    "- ✅ Flag หรือแยกข้อมูลผิดปกติ"
   ]
  },
  {
   "cell_type": "markdown",
   "id": "dcdf51dc",
   "metadata": {},
   "source": [
    "🔹 ใช้ `.filter((col > upper_bound) | (col < lower_bound))`\n",
    "\n",
    "🔹 หรือ `.withColumn(\"is_outlier\", condition)`"
   ]
  },
  {
   "cell_type": "markdown",
   "id": "34cda9d3",
   "metadata": {},
   "source": [
    "##### 🧠 5. Human Insight via Visualization"
   ]
  },
  {
   "cell_type": "markdown",
   "id": "a2fb61c1",
   "metadata": {},
   "source": [
    "- ✅ สุ่ม sample แล้ว `collect()` มาทำ Pandas / Seaborn plot\n",
    "\n",
    "- ✅ Histogram / Boxplot / Countplot\n",
    "\n",
    "- ✅ Heatmap (สำหรับ correlation)"
   ]
  },
  {
   "cell_type": "markdown",
   "id": "7d6a69c9",
   "metadata": {},
   "source": [
    "🔹 เน้นดู skew, distribution, outlier รูปแบบ\n",
    "\n",
    "🔹 ใช้ `seed` เพื่อให้สุ่มแบบ reproducible"
   ]
  },
  {
   "cell_type": "markdown",
   "id": "860c4713",
   "metadata": {},
   "source": [
    "##### 📁 6. Store Cleaned/Prepared Data"
   ]
  },
  {
   "cell_type": "markdown",
   "id": "645d0554",
   "metadata": {},
   "source": [
    "- ✅ Save data หลัง clean แบบ partitioned Parquet (หรือ Delta Lake)\n",
    "\n",
    "- ✅ หรือ cache ไว้ถ้าต้องทำต่อ"
   ]
  }
 ],
 "metadata": {
  "language_info": {
   "name": "python"
  }
 },
 "nbformat": 4,
 "nbformat_minor": 5
}
