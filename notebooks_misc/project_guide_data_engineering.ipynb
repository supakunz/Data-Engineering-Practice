{
 "cells": [
  {
   "cell_type": "markdown",
   "id": "a47b58f7",
   "metadata": {},
   "source": [
    "#### ✅ ขั้นตอนที่ Data Engineer ทำจริง\n"
   ]
  },
  {
   "cell_type": "markdown",
   "id": "f9a1ba8f",
   "metadata": {},
   "source": [
    "##### 1. ทำความเข้าใจ Requirement"
   ]
  },
  {
   "cell_type": "markdown",
   "id": "2e67cc88",
   "metadata": {},
   "source": [
    "- ถามว่า\n",
    "\n",
    "  - ข้อมูลอยู่ไหน (API / DB / file / external bucket)?\n",
    "  \n",
    "  - Format อะไร (CSV, JSON, Parquet)?\n",
    "\n",
    "  - Volume แค่ไหน (MB/GB)?\n",
    "\n",
    "  - ต้องทำ Batch หรือ Streaming?\n",
    "\n",
    "  - ความถี่ (daily, hourly)?\n",
    "\n",
    "  - Load ไปไหน? (BigQuery, PostgreSQL, Data Lake)\n",
    "\n",
    "📌 \"เข้าใจโจทย์คือหัวใจหลักของ DE\""
   ]
  },
  {
   "cell_type": "markdown",
   "id": "a903af89",
   "metadata": {},
   "source": [
    "##### 2. เริ่มจาก Local Dev (เสมอ)"
   ]
  },
  {
   "cell_type": "markdown",
   "id": "90f92ec5",
   "metadata": {},
   "source": [
    "- ตั้งค่าบน local dev environment\n",
    "\n",
    "  - สร้าง folder struturce ตามที่แนะนำ\n",
    "  \n",
    "  - สร้างไฟล์ notebook หรือ scripts สำหรับ ETL logic\n",
    "\n",
    "  - โหลด sample data มาบางส่วนมาทำงานก่อน\n",
    "\n",
    "- ทำ Clean/Transform ให้ตรงกับ business logic\n",
    "\n",
    "  - เช่น Convert date format, drop nulls, filter valid row\n",
    "\n",
    "✅ ETL จะเริ่มที่ local เพื่อให้ logic ถูกต้องก่อน แล้วจึง scale ไป cluster หรือ production"
   ]
  },
  {
   "cell_type": "markdown",
   "id": "27ee44f7",
   "metadata": {},
   "source": [
    "##### 🔁 สรุป Workflow ที่ใช้กันจริง (การทำบน Local)"
   ]
  },
  {
   "cell_type": "markdown",
   "id": "7905969e",
   "metadata": {},
   "source": [
    "🔹 Step 1: เริ่มจาก Notebook (EDA + Transform)\n",
    "- ใช้ `eda_transform.ipynb` เพื่อ:\n",
    "\n",
    "  - ดูโครงสร้าง raw data\n",
    "\n",
    "  - ลอง clean, join, enrich, handle null, cast type ฯลฯ\n",
    "\n",
    "  - ลอง logic transform ที่คิดไว้\n",
    "\n",
    "  - แสดงตัวอย่างผลลัพธ์ เช่น `.show(5)`, `.summary()` หรือ `.write` ไปยัง temp folder\n",
    "\n",
    "  🎯 จุดมุ่งหมาย: พิสูจน์ว่า logic ที่คิดไว้ \"เวิร์ก\" กับ data จริง"
   ]
  },
  {
   "cell_type": "markdown",
   "id": "ec36515f",
   "metadata": {},
   "source": [
    "🔹 Step 2: ถ้า logic ใช้ได้ → ค่อยแยกเป็น Module\n",
    "\n",
    "- ย้าย logic ที่ลองแล้ว ออกจาก Notebook\n",
    "\n",
    "- แยกใส่ใน `etl/transform.py`, `etl/extract.py`, `etl/load.py`\n",
    "\n",
    "- ทำให้ reusable, ทดสอบง่าย และ maintain ได้\n",
    "\n",
    "- รันผ่าน `jobs/run_etl.py` โดยใช้ `SparkSession` และรับ config จาก `.yaml`"
   ]
  },
  {
   "cell_type": "code",
   "execution_count": null,
   "id": "c812d7a9",
   "metadata": {},
   "outputs": [],
   "source": [
    "# jobs/run_etl.py\n",
    "from etl.extract import extract_csv # type: ignore\n",
    "from etl.transform import clean_data # type: ignore\n",
    "from etl.load import save_to_parquet # type: ignore\n",
    "\n",
    "df = extract_csv(spark, config[\"input_path\"]) # type: ignore\n",
    "df_clean = clean_data(df)\n",
    "save_to_parquet(df_clean, config[\"output_path\"]) # type: ignore"
   ]
  },
  {
   "cell_type": "markdown",
   "id": "7aadc697",
   "metadata": {},
   "source": [
    "##### 🎯 ทำไมใช้ Notebook ก่อนถึงดีที่สุด"
   ]
  },
  {
   "cell_type": "markdown",
   "id": "f61a4890",
   "metadata": {},
   "source": [
    "| ข้อดี                                    | เหตุผล                                    |\n",
    "| ---------------------------------------- | ----------------------------------------- |\n",
    "| 🧪 เหมาะกับ trial-and-error              | ใช้ `.show()` และดูผลลัพธ์แบบ interactive |\n",
    "| 🔄 ปรับ logic ได้ไว                      | ไม่ต้องรันจาก CLI ทุกครั้ง                |\n",
    "| 👨‍💻 เห็นชัดว่าเปลี่ยนอะไรกับ data      | ทำให้ reasoning ดีขึ้น                    |\n",
    "| 🧼 คัด logic ที่มั่นใจก่อนค่อยแยก module | ลด code ซ้ำซ้อนใน pipeline                |"
   ]
  },
  {
   "cell_type": "markdown",
   "id": "8422b61d",
   "metadata": {},
   "source": [
    "##### ✅ สรุปแนวทางที่แนะนำ"
   ]
  },
  {
   "cell_type": "markdown",
   "id": "fc55b0c9",
   "metadata": {},
   "source": [
    "- สร้างโครงสร้าง folder/project scaffolding ไว้ก่อน\n",
    "\n",
    "- เริ่มจาก eda_transform.ipynb เพื่อทดลอง logic\n",
    "\n",
    "- เมื่อ logic OK → ค่อยแยกออกเป็น module (extract/transform/load)\n",
    "\n",
    "- ใช้ script run_etl.py เพื่อรัน end-to-end (simulate job จริง)\n",
    "\n",
    "- หากอยาก realistic มากขึ้น → สร้าง daily partition, logger, test input set เพิ่มได้"
   ]
  },
  {
   "cell_type": "markdown",
   "id": "4237b433",
   "metadata": {
    "vscode": {
     "languageId": "latex"
    }
   },
   "source": [
    "##### 3. เขียน Script หรือ Modular Code\n"
   ]
  },
  {
   "cell_type": "markdown",
   "id": "6855b50b",
   "metadata": {},
   "source": [
    "- แยกโค้ด ETL เป็นโมดูล เช่น"
   ]
  },
  {
   "cell_type": "code",
   "execution_count": null,
   "id": "054d67ec",
   "metadata": {
    "vscode": {
     "languageId": "ini"
    }
   },
   "outputs": [],
   "source": [
    "  ├── etl/\n",
    "  │   ├── extract.py\n",
    "  │   ├── transform.py\n",
    "  │   └── load.py"
   ]
  },
  {
   "cell_type": "markdown",
   "id": "571f3a6b",
   "metadata": {},
   "source": [
    "- ใช้ PySpark (หรือ Pandas ถ้าเล็ก) เขียน logic ให้ reusable"
   ]
  },
  {
   "cell_type": "markdown",
   "id": "dcc27d9c",
   "metadata": {},
   "source": [
    "##### 4. ทดสอบ Pipeline"
   ]
  },
  {
   "cell_type": "markdown",
   "id": "40f177eb",
   "metadata": {},
   "source": [
    "- ทดสอบด้วย sample data\n",
    "\n",
    "- เช็กผลลัพธ์ของการ transform\n",
    "\n",
    "- เช็กว่า load ไปที่ target แล้วหรือยัง"
   ]
  },
  {
   "cell_type": "markdown",
   "id": "f7de1294",
   "metadata": {},
   "source": [
    "##### 5. จัดการ Environment และ Parameter"
   ]
  },
  {
   "cell_type": "markdown",
   "id": "7a00ab24",
   "metadata": {},
   "source": [
    "- ใช้ .env, config.yaml, CLI args เพื่อความยืดหยุ่น\n",
    "\n",
    "- เช่น ``` python etl_job.py --run_date=2025-07-29 ```"
   ]
  },
  {
   "cell_type": "markdown",
   "id": "0a9e40be",
   "metadata": {},
   "source": [
    "##### 6. เตรียม Deployment/Production"
   ]
  },
  {
   "cell_type": "markdown",
   "id": "0e2fc935",
   "metadata": {},
   "source": [
    "- ถ้ารันเป็น batch job → ใช้ Airflow / cron / cloud scheduler\n",
    "\n",
    "- ถ้าต้องรันบน cluster → ส่งขึ้น Spark cluster / Dataproc / EMR\n",
    "\n",
    "- ถ้ารันบน cloud → เตรียม environment ให้เหมือน local แล้ว de"
   ]
  },
  {
   "cell_type": "markdown",
   "id": "3a59081f",
   "metadata": {},
   "source": [
    "##### 📌 สรุป Flow ที่ใช้ฝึกได้ (เหมือนงานจริง)"
   ]
  },
  {
   "cell_type": "markdown",
   "id": "16620a34",
   "metadata": {},
   "source": [
    "| Step | Task                                           |\n",
    "| ---- | ---------------------------------------------- |\n",
    "| 1.   | ศึกษา source (API/DB/file)                     |\n",
    "| 2.   | โหลด sample data มา local                      |\n",
    "| 3.   | เขียน ETL logic (extract → transform → load)   |\n",
    "| 4.   | Modularize code (scripts / jobs)               |\n",
    "| 5.   | ทำ test run และ debug                          |\n",
    "| 6.   | เตรียม production (parameter, config, logging) |\n",
    "| 7.   | Deploy ไป cloud หรือ simulate batch run        |\n"
   ]
  },
  {
   "cell_type": "markdown",
   "id": "095bd2e0",
   "metadata": {},
   "source": [
    "#### เพิ่มเติม\n",
    "\n",
    "##### วิธีแนวทางการ save ไฟล์ใน production "
   ]
  },
  {
   "cell_type": "markdown",
   "id": "a6a9fa2d",
   "metadata": {},
   "source": [
    "✅ 1. ใช้ Parquet เป็นหลัก"
   ]
  },
  {
   "cell_type": "markdown",
   "id": "73333445",
   "metadata": {},
   "source": [
    "เพราะ:\n",
    "\n",
    "- ประหยัดพื้นที่ (columnar + compression)\n",
    "\n",
    "- อ่านเร็วกว่า CSV มาก\n",
    "\n",
    "- รองรับ schema\n",
    "\n",
    "- ทำงานกับ Spark/BigQuery/Snowflake ได้ดี"
   ]
  },
  {
   "cell_type": "code",
   "execution_count": null,
   "id": "e8249fba",
   "metadata": {
    "vscode": {
     "languageId": "ini"
    }
   },
   "outputs": [],
   "source": [
    "df.write.mode(\"overwrite\").parquet(\"path/to/processed/clean_data\")"
   ]
  },
  {
   "cell_type": "markdown",
   "id": "941bcd64",
   "metadata": {},
   "source": [
    "✅ 2. ใช้ CSV เฉพาะเพื่อ export ไปให้คนอ่าน (Data Analyst / Excel / BI Tool)"
   ]
  },
  {
   "cell_type": "markdown",
   "id": "471297a2",
   "metadata": {},
   "source": [
    "เพราะ:\n",
    "\n",
    "- ประหยัดพื้นที่ (columnar + compression)\n",
    "\n",
    "- อ่านเร็วกว่า CSV มาก\n",
    "\n",
    "- รองรับ schema\n",
    "\n",
    "- ทำงานกับ Spark/BigQuery/Snowflake ได้ดี"
   ]
  },
  {
   "cell_type": "code",
   "execution_count": null,
   "id": "61447768",
   "metadata": {
    "vscode": {
     "languageId": "ini"
    }
   },
   "outputs": [],
   "source": [
    "df.write.mode(\"overwrite\").parquet(\"path/to/processed/clean_data\")"
   ]
  },
  {
   "cell_type": "markdown",
   "id": "a8e9ebcb",
   "metadata": {},
   "source": [
    "✅ 3. แบ่งไฟล์แบบ partition (ถ้าข้อมูลใหญ่)"
   ]
  },
  {
   "cell_type": "markdown",
   "id": "8ee9c709",
   "metadata": {},
   "source": [
    "เพื่อให้:\n",
    "\n",
    "- โหลดเร็ว (อ่านเฉพาะ partition ที่ต้องใช้)\n",
    "\n",
    "- รองรับ query แบบกรองวัน/เดือน/year ได้ดี"
   ]
  },
  {
   "cell_type": "code",
   "execution_count": null,
   "id": "8e2cb1c2",
   "metadata": {
    "vscode": {
     "languageId": "ini"
    }
   },
   "outputs": [],
   "source": [
    "df.write.mode(\"overwrite\").partitionBy(\"year\", \"month\").parquet(\"path/to/partitioned\")"
   ]
  },
  {
   "cell_type": "markdown",
   "id": "13b0ea84",
   "metadata": {},
   "source": [
    "✅ 4. เปิด compression (เช่น Snappy) เพื่อประหยัดพื้นที่"
   ]
  },
  {
   "cell_type": "code",
   "execution_count": null,
   "id": "69d636f9",
   "metadata": {
    "vscode": {
     "languageId": "ini"
    }
   },
   "outputs": [],
   "source": [
    "df.write.mode(\"overwrite\") \\\n",
    "  .option(\"compression\", \"snappy\") \\\n",
    "  .parquet(\"path/to/compressed\")"
   ]
  },
  {
   "cell_type": "markdown",
   "id": "7ef16f6e",
   "metadata": {},
   "source": [
    "✅ 5. ตั้งชื่อ directory ตาม step / layer ใน pipeline"
   ]
  },
  {
   "cell_type": "code",
   "execution_count": null,
   "id": "9bdb2fbe",
   "metadata": {
    "vscode": {
     "languageId": "ini"
    }
   },
   "outputs": [],
   "source": [
    "data/\n",
    "├── raw/             ← ข้อมูลดิบจาก API, DB\n",
    "├── staged/          ← หลังจาก ingestion\n",
    "├── processed/       ← หลัง transform / clean แล้ว\n",
    "├── export_csv/      ← สำหรับ Analyst / external tools"
   ]
  },
  {
   "cell_type": "markdown",
   "id": "ff73f18e",
   "metadata": {},
   "source": [
    "✅ 6. ไม่เขียนไฟล์หลาย format ซ้อนกัน"
   ]
  },
  {
   "cell_type": "markdown",
   "id": "90fe9a2d",
   "metadata": {},
   "source": [
    "- ในแต่ละขั้นจะเลือก format เดียว เพื่อความชัดเจน\n",
    "\n",
    "- ถ้าต้องการหลาย format → แยกออกเป็นขั้นตอน export ต่างหาก"
   ]
  },
  {
   "cell_type": "markdown",
   "id": "efe990e8",
   "metadata": {},
   "source": [
    "✅ 7. ระวัง overwrite กับ append"
   ]
  },
  {
   "cell_type": "markdown",
   "id": "3e34bdc5",
   "metadata": {},
   "source": [
    "- `mode(\"overwrite\")` ใช้สำหรับ dev/test หรือ batch ที่ต้อง replace\n",
    "\n",
    "- `mode(\"append\")` ใช้ใน production ที่เพิ่มข้อมูลทีละรอบ (เช่น real-time, daily batch)"
   ]
  },
  {
   "cell_type": "markdown",
   "id": "db05d775",
   "metadata": {},
   "source": [
    "##### สรุป Best Practices โดยย่อ"
   ]
  },
  {
   "cell_type": "markdown",
   "id": "3954813d",
   "metadata": {},
   "source": [
    "| แนวทาง                 | ใช้เมื่อ                          |\n",
    "| ---------------------- | --------------------------------- |\n",
    "| Parquet + Snappy       | Main pipeline, fast I/O           |\n",
    "| CSV + header           | Export to business users          |\n",
    "| Partition by date/user | Large dataset for efficient query |\n",
    "| Overwrite vs Append    | ขึ้นกับ batch/realtime            |\n",
    "| Clear folder structure | raw → staged → processed → output |"
   ]
  }
 ],
 "metadata": {
  "language_info": {
   "name": "python"
  }
 },
 "nbformat": 4,
 "nbformat_minor": 5
}
