{
 "cells": [
  {
   "cell_type": "markdown",
   "id": "878634e9",
   "metadata": {},
   "source": [
    "### ✅ Pattern ปกติที่ใช้กันในงานจริง (สำหรับ PySpark + Big Data)"
   ]
  },
  {
   "cell_type": "markdown",
   "id": "fd9a9b34",
   "metadata": {},
   "source": [
    "- โดยเฉพาะในงาน Data Engineering หรือ Data Analytics ที่ใช้ Spark \n",
    "  เช่น วิเคราะห์ log, transaction, sales, หรือ IoT data"
   ]
  },
  {
   "cell_type": "markdown",
   "id": "cd7d09f4",
   "metadata": {},
   "source": [
    "#### 🔸 สรุป Step ที่นิยมใช้เป็น Pattern (เรียงตามลำดับที่ทำจริง):"
   ]
  },
  {
   "cell_type": "markdown",
   "id": "d5bf49a5",
   "metadata": {},
   "source": [
    "##### 1.Inspect Schema & Sample"
   ]
  },
  {
   "cell_type": "markdown",
   "id": "b94f8d46",
   "metadata": {},
   "source": [
    "- `df.printSchema()`, `df.show()`, `df.count()`\n",
    "\n",
    "- ✔ ดูว่า column เป็น type อะไร และข้อมูลมีหน้าตาแบบไหน"
   ]
  },
  {
   "cell_type": "markdown",
   "id": "53e4bd1d",
   "metadata": {},
   "source": [
    "##### 2.Check Missing / Null"
   ]
  },
  {
   "cell_type": "markdown",
   "id": "0f971bbd",
   "metadata": {},
   "source": [
    "- `count(when(col.isNull(), col))` หรือ `isnan`\n",
    "\n",
    "- ✔ ใช้บ่อยมาก เพื่อดูว่าสามารถนำไปใช้งานได้เลยไหม หรือต้อง clean"
   ]
  },
  {
   "cell_type": "markdown",
   "id": "be777183",
   "metadata": {},
   "source": [
    "##### 3.Summary Stats (เฉพาะ numeric column)"
   ]
  },
  {
   "cell_type": "markdown",
   "id": "fa7380b8",
   "metadata": {},
   "source": [
    "- `df.describe().show()`\n",
    "\n",
    "- ✔ ใช้บ่อย เพื่อดูค่าเฉลี่ย/Max/Min เร็วๆ"
   ]
  },
  {
   "cell_type": "markdown",
   "id": "0c7f593a",
   "metadata": {},
   "source": [
    "✅ แนวทางการเลือกดู Summary Stats (อย่างมีหลักการ)"
   ]
  },
  {
   "cell_type": "markdown",
   "id": "2476936e",
   "metadata": {},
   "source": [
    "🔸 1. ดูเฉพาะ numeric columns ที่เกี่ยวข้องกับ use case / ธุรกิจ"
   ]
  },
  {
   "cell_type": "markdown",
   "id": "dabfd77f",
   "metadata": {},
   "source": [
    "| Column        | ประเภท | ควรดูไหม?  | เหตุผล                                        |\n",
    "| ------------- | ------ | ---------- | --------------------------------------------- |\n",
    "| `price`       | float  | ✅          | ตรวจสอบราคา: ค่าเฉลี่ย, ค่าสูงสุดผิดปกติ      |\n",
    "| `quantity`    | int    | ✅          | ดูจำนวนหนังสือที่ขายต่อรายการ                 |\n",
    "| `total_sales` | float  | ✅          | เช็กยอดขายรวม                                 |\n",
    "| `stock`       | int    | ✅ ถ้าใช้   | ดูของคงคลัง มี outlier หรือของหมดไหม          |\n",
    "| `rating`      | float  | ✅ ถ้ามี    | ดูแนวโน้มรีวิว                                |\n",
    "| `year`        | int    | 🔶 ไม่เสมอ | บางครั้งต้องแปลงเป็น datetime ก่อนจึงดูค่าได้ |\n"
   ]
  },
  {
   "cell_type": "markdown",
   "id": "36287a2b",
   "metadata": {},
   "source": [
    "🔸 2. ถ้า dataset ยังไม่คุ้นเคย —> ดู summary ของ numeric ทุกตัว (รอบแรก)"
   ]
  },
  {
   "cell_type": "code",
   "execution_count": null,
   "id": "d2e56611",
   "metadata": {},
   "outputs": [],
   "source": [
    "df.select([col for col in df.columns if dict(df.dtypes)[col] in ['int', 'double', 'float']]).describe().show() # type: ignore"
   ]
  },
  {
   "cell_type": "markdown",
   "metadata": {},
   "source": [
    "🔸 3. จากนั้นค่อย “โฟกัสเจาะลึก” เฉพาะ column ที่:"
   ]
  },
  {
   "cell_type": "markdown",
   "id": "96e5a20c",
   "metadata": {},
   "source": [
    "- ค่าผิดปกติ (เช่น price ต่ำกว่า 0 หรือสูงเกินจริง)\n",
    "\n",
    "- กระจายสูง (stddev สูง) เช่น คนซื้อ 1 กับ 100 เล่ม\n",
    "\n",
    "- ค่ามี missing (count ต่ำกว่าจำนวนแถวทั้งหมด)\n",
    "\n",
    "- เกี่ยวข้องกับเป้าหมายของโปรเจกต์ (KPI สำคัญ)"
   ]
  },
  {
   "cell_type": "markdown",
   "id": "1388a145",
   "metadata": {},
   "source": [
    "🎯 หลักคิด: Summary Stats ไม่ใช่แค่เช็กว่า \"ปกติไหม\" แต่คือ “ตั้งคำถาม”"
   ]
  },
  {
   "cell_type": "markdown",
   "id": "2b5e6dd6",
   "metadata": {},
   "source": [
    "| Metric     | คำถาม                                                    |\n",
    "| ---------- | -------------------------------------------------------- |\n",
    "| mean       | ค่ากลางสมเหตุสมผลไหม เช่น ราคาเฉลี่ย 100 บาท โอเคไหม?    |\n",
    "| stddev     | ความหลากหลายเยอะไหม? ถ้าเยอะ ทำไม?                       |\n",
    "| min/max    | มีค่าแปลก ๆ ไหม เช่น quantity = 0, price = -50           |\n",
    "| count      | มี missing value หรือเปล่า? ควรจัดการยังไง?              |\n",
    "| percentile | มีกลุ่มที่ขายดีมาก ๆ อยู่แค่ 5% ไหม? (long-tail effect?) |"
   ]
  },
  {
   "cell_type": "markdown",
   "id": "277b40de",
   "metadata": {},
   "source": [
    "- 1.`count`\n",
    "  \n",
    "  - ใช้ดูว่า มี missing value ไหม (ถ้า count น้อยกว่าจำนวนแถวทั้งหมด แปลว่ามี null)\n",
    "\n",
    "- 2.`mean` (ค่าเฉลี่ย)\n",
    "  \n",
    "  - ใช้ดูว่าข้อมูล \"โดยรวม\" อยู่ที่ระดับไหน\n",
    "\n",
    "- 3.`stddev` ส่วนเบี่ยงเบนมาตรฐาน\n",
    "  \n",
    "  - ใช้ดูว่าข้อมูลกระจายมากแค่ไหน\n",
    "  \n",
    "  - ถ้า `stddev` ต่ำ → ข้อมูลใกล้เคียงกัน\n",
    "  \n",
    "  - ถ้า `stddev` สูง → มีข้อมูลหลุด หรือกระจายกว้าง\n",
    "  \n",
    "  - ใช้ตรวจ outlier ด้วยสูตร: ค่าปกติ = mean ± 3 * stddev อะไรที่หลุดจากนี้ → สงสัยว่าอาจผิดปกติ\n",
    "\n",
    "- 4.`min` กับ `max`\n",
    "  \n",
    "  -ใช้ดูว่า ช่วงข้อมูลกว้างไหม หรือมี outlier แบบสุดโต่งหรือไม่\n",
    "\n",
    "  - ถ้า `min` = 0 หรือ `max` สูงผิดปกติ → ตรวจต่อว่าเป็นข้อผิดพลาดหรือ outlier จริงไหม"
   ]
  },
  {
   "cell_type": "markdown",
   "id": "f394131c",
   "metadata": {},
   "source": [
    "✅สรุป: สิ่งที่ควรตรวจหลังใช้ describe"
   ]
  },
  {
   "cell_type": "markdown",
   "id": "2b32ddff",
   "metadata": {},
   "source": [
    "| เป้าหมาย             | ดูคอลัมน์ไหน            | วิธีคิด                                      |\n",
    "| -------------------- | ----------------------- | -------------------------------------------- |\n",
    "| Missing value        | `count`                 | น้อยกว่าจำนวนแถว?                            |\n",
    "| ค่าผิดปกติ (Outlier) | `mean`, `stddev`, `max` | เกิน `mean ± 3*stddev` ไหม?                  |\n",
    "| ช่วงข้อมูลกว้างไหม   | `min`, `max`            | ห่างจาก mean มากไหม?                         |\n",
    "| การกระจายข้อมูล      | `stddev`                | สูง → ข้อมูลหลากหลาย, อาจต้องจัดการเพิ่มเติม |\n"
   ]
  },
  {
   "cell_type": "markdown",
   "id": "f91f16f3",
   "metadata": {},
   "source": [
    "✨ สรุปสั้น ๆ\n",
    "\n",
    "- ✅ ดูเฉพาะ numeric columns ที่เกี่ยวข้องกับธุรกิจ หรือใช้วิเคราะห์จริง\n",
    "\n",
    "- 🧠 ตั้งคำถามจากค่าเหล่านั้น ไม่ใช่แค่ดูผ่าน ๆ\n",
    "\n",
    "- 🔁 รอบแรกอาจดูทั้งหมด แล้วค่อยโฟกัสลงในจุดสำคัญ"
   ]
  },
  {
   "cell_type": "markdown",
   "id": "81b03dd9",
   "metadata": {},
   "source": [
    "##### 4.Value Count / Distinct / Top-N"
   ]
  },
  {
   "cell_type": "markdown",
   "id": "d2682520",
   "metadata": {},
   "source": [
    "- `groupBy().count()` / `distinct().count()`\n",
    "\n",
    "- ✔ สำคัญมากเวลาต้องการดู category ที่มีอยู่จริง เช่น genre, book title"
   ]
  },
  {
   "cell_type": "markdown",
   "id": "e84d4a83",
   "metadata": {},
   "source": [
    "##### 5.Trend Analysis (กรณีมีเวลา/วันที่)"
   ]
  },
  {
   "cell_type": "markdown",
   "id": "83768503",
   "metadata": {},
   "source": [
    "- `groupBy('month')` หรือ `year-month` แล้ว sum ยอดขาย\n",
    "\n",
    "- ✔ ถ้าข้อมูลมีเวลา เกือบทุกงานต้องดู trend รายเดือนหรือรายวัน"
   ]
  },
  {
   "cell_type": "markdown",
   "id": "7f229262",
   "metadata": {},
   "source": [
    "##### 6.Distribution / Visualization (optional)"
   ]
  },
  {
   "cell_type": "markdown",
   "id": "8197b67b",
   "metadata": {},
   "source": [
    "- ใช้ `toPandas().sample()` เพื่อ plot histogram, bar chart, correlation\n",
    "\n",
    "- ✔ ใช้เฉพาะตอนมีเวลาหรือในงาน presentation / dashboard"
   ]
  },
  {
   "cell_type": "markdown",
   "id": "25a2a7fd",
   "metadata": {},
   "source": [
    "##### 7.Correlation Analysis (optional)"
   ]
  },
  {
   "cell_type": "markdown",
   "id": "714e2e08",
   "metadata": {},
   "source": [
    "- ✔ ใช้ในกรณีที่วิเคราะห์เชิงลึก หรือเตรียมข้อมูลไปทำ model"
   ]
  },
  {
   "cell_type": "markdown",
   "id": "580e0685",
   "metadata": {},
   "source": [
    "##### 8.Outlier / Invalid Detection (กรณีต้อง clean data)"
   ]
  },
  {
   "cell_type": "markdown",
   "id": "6f8410f1",
   "metadata": {},
   "source": [
    "- ✔ เช่น quantity ≤ 0, price < 0 — ใช้เฉพาะตอนรู้ว่าค่าพวกนี้ผิดแน่"
   ]
  },
  {
   "cell_type": "markdown",
   "id": "cfd678d9",
   "metadata": {},
   "source": [
    "##### 9.Data Cleaning / Save cleaned Data"
   ]
  },
  {
   "cell_type": "markdown",
   "id": "8ddaab08",
   "metadata": {},
   "source": [
    "- ✔ ขั้นตอนสุดท้ายก่อนส่งต่อข้อมูล"
   ]
  },
  {
   "cell_type": "markdown",
   "id": "3530cf7b",
   "metadata": {},
   "source": [
    "#### 🧠 ถ้าสรุปเป็น Core EDA Pattern ที่ควรทำ \"แทบทุกครั้ง\""
   ]
  },
  {
   "cell_type": "markdown",
   "id": "3796a21a",
   "metadata": {},
   "source": [
    "| ขั้นตอน             | ความจำเป็น     | ทำไปทำไม                               |\n",
    "| ------------------- | -------------- | -------------------------------------- |\n",
    "| Schema inspection   | 🔴 สูง         | รู้ว่า column มีอะไรและ type ถูกไหม    |\n",
    "| Missing/null check  | 🔴 สูง         | ข้อมูลพร้อมใช้ไหม?                     |\n",
    "| Summary stats       | 🟠 กลาง        | เข้าใจภาพรวมค่า numeric                |\n",
    "| Value count / group | 🔴 สูง         | เข้าใจ distribution ของแต่ละ category  |\n",
    "| Trend / Time Series | 🟠 ถ้ามีวันที่ | หาความเปลี่ยนแปลงตามเวลา               |\n",
    "| Visualization       | 🟢 เสริม       | ทำให้เห็นภาพง่าย ใช้ใน notebook/นำเสนอ |\n",
    "| Correlation         | 🟢 เสริม       | ถ้าจะ model ต่อ                        |\n",
    "| Outlier check       | 🟠 กลาง        | ถ้าจะ clean ข้อมูล                     |\n",
    "| Save clean data     | 🔴 สูง         | เพื่อใช้ขั้นตอนต่อไป                   |\n"
   ]
  },
  {
   "cell_type": "markdown",
   "id": "36cba77b",
   "metadata": {},
   "source": [
    "##### 📌 สรุป :"
   ]
  },
  {
   "cell_type": "markdown",
   "id": "d29622b9",
   "metadata": {},
   "source": [
    "- ไม่ต้องทำครบทุกข้อทุกครั้งแต่ควรทำ 4 อย่างนี้ให้ได้เกือบทุกงาน:"
   ]
  },
  {
   "cell_type": "markdown",
   "id": "635530b0",
   "metadata": {},
   "source": [
    "- ✅ printSchema()\n",
    "\n",
    "- ✅ Missing/null check\n",
    "\n",
    "- ✅ describe()\n",
    "\n",
    "- ✅ GroupBy & Aggregate เพื่อดู distribution (Top-N หรือ Sum ยอดขาย)"
   ]
  },
  {
   "cell_type": "markdown",
   "id": "a1b404da",
   "metadata": {},
   "source": [
    "#### การจัดการกับข้อมูลที่เป็น `Null` และ `Outlier`"
   ]
  },
  {
   "cell_type": "markdown",
   "id": "a1c90470",
   "metadata": {},
   "source": [
    "#### 🧱 1. กรณีข้อมูลที่เป็น null (Missing Data)"
   ]
  },
  {
   "cell_type": "markdown",
   "id": "d2252761",
   "metadata": {},
   "source": [
    "✅ แนวทางการจัดการ:"
   ]
  },
  {
   "cell_type": "markdown",
   "id": "4794b306",
   "metadata": {},
   "source": [
    "| วิธีจัดการ                                           | เหมาะกับกรณี                                 | ตัวอย่าง                             |\n",
    "| ---------------------------------------------------- | -------------------------------------------- | ------------------------------------ |\n",
    "| ลบทิ้ง (Drop rows)                                   | ถ้ามีจำนวนน้อย และไม่สำคัญ                   | ข้อมูลสูญหายแค่ 1% ของแถว            |\n",
    "| เติมด้วยค่าเฉลี่ย/มัธยฐาน (`mean` / `median`)        | ถ้าเป็น **ตัวเลข** และค่ากระจายไม่มาก        | เติม `mean(total_price)`             |\n",
    "| เติมด้วยค่าที่กำหนดไว้ (`0`, `\"Unknown\"` ฯลฯ)        | ถ้าเป็น **categorical** หรือ logical default | `customer_type = Unknown`            |\n",
    "| เติมด้วยค่าก่อนหน้า (`ffill`) หรือค่าถัดไป (`bfill`) | ข้อมูลตามลำดับเวลา (time-series)             | เติมอุณหภูมิจากวันก่อน               |\n",
    "| ใช้ model ทำนายค่า missing                           | งานวิเคราะห์ขั้นสูง                          | ใช้ regression เติม `price` ที่หายไป |\n"
   ]
  },
  {
   "cell_type": "markdown",
   "id": "6d14ad71",
   "metadata": {},
   "source": [
    "✅ Tips: ก่อนตัดสินใจ ให้ดู count() กับ percent missing เสมอ"
   ]
  },
  {
   "cell_type": "markdown",
   "id": "4d1e63cd",
   "metadata": {},
   "source": [
    "##### ✅ วิธีจัดการกับ Missing Values แบ่งตามกรณี"
   ]
  },
  {
   "cell_type": "markdown",
   "id": "9ff40446",
   "metadata": {},
   "source": [
    "🔹 1. สำหรับงาน Dashboard / BI / Reporting"
   ]
  },
  {
   "cell_type": "markdown",
   "id": "96f3c05b",
   "metadata": {},
   "source": [
    "| กรณี                                                                     | แนวทางที่นิยม                             |\n",
    "| ------------------------------------------------------------------------ | ----------------------------------------- |\n",
    "| ข้อมูลขาดเพราะ **ไม่จำเป็นต้องกรอกจริง** (เช่น ลูกค้าที่ไม่กรอกเบอร์โทร) | ✅ แสดงว่า missing ได้ ไม่ต้องเติม         |\n",
    "| ข้อมูลขาดแบบ **ผิดพลาด** (ควรมีแต่ไม่มี เช่น `price = null`)             | 🔧 เติม (impute) หรือกรองออก              |\n",
    "| ข้อมูลสำคัญ **ขาดเยอะมาก**                                               | ⚠️ พิจารณา **ดรอปคอลัมน์** เลยถ้าไม่สำคัญ |\n"
   ]
  },
  {
   "cell_type": "markdown",
   "metadata": {},
   "source": [
    "💡 เป้าหมาย: ให้ข้อมูลสมบูรณ์พอจะนำไปสรุปภาพรวมและสร้างกราฟได้ โดยไม่หลอกตาผู้ใช้งาน"
   ]
  },
  {
   "cell_type": "markdown",
   "id": "4cb6ddfc",
   "metadata": {},
   "source": [
    "🔹 2. สำหรับ Machine Learning"
   ]
  },
  {
   "cell_type": "markdown",
   "id": "3c167835",
   "metadata": {},
   "source": [
    "| กรณี                                            | แนวทางที่นิยม                                                     |\n",
    "| ----------------------------------------------- | ----------------------------------------------------------------- |\n",
    "| Column สำคัญแต่ขาดค่า (missing ไม่มาก)          | ✅ เติมด้วย mean / median / mode (หรือค่าที่เหมาะกับ distribution) |\n",
    "| Missing มีนัยยะ เช่น \"ไม่ได้กรอก\" อาจเป็นสัญญาณ | ✅ สร้าง flag column เช่น `is_missing = true`                      |\n",
    "| Missing เยอะมากจนไม่มีประโยชน์                  | ❌ ดรอป column นั้น                                                |\n"
   ]
  },
  {
   "cell_type": "markdown",
   "id": "e0f70552",
   "metadata": {},
   "source": [
    "💡 เป้าหมาย: ไม่ให้โมเดลเจอ null เพราะอัลกอริธึมส่วนใหญ่ไม่รองรับ ต้องเติมให้ครบหรือแจ้งความหมาย"
   ]
  },
  {
   "cell_type": "markdown",
   "id": "6becdc78",
   "metadata": {},
   "source": [
    "##### 🔧 เทคนิคยอดนิยมในการจัดการ Missing Values"
   ]
  },
  {
   "cell_type": "markdown",
   "id": "f8354637",
   "metadata": {},
   "source": [
    "| เทคนิค                                | ใช้เมื่อ                                    |\n",
    "| ------------------------------------- | ------------------------------------------- |\n",
    "| เติมค่าเฉลี่ย (`mean`)                | ค่าเป็นตัวเลขกระจายไม่มาก                   |\n",
    "| เติมค่ากลาง (`median`)                | ตัวเลขมี outlier เยอะ                       |\n",
    "| เติมค่าที่พบบ่อย (`mode`)             | ข้อมูลเชิง category เช่น จังหวัด, เพศ       |\n",
    "| เติมด้วย \"unknown\"                    | กรณีไม่แน่ใจ ให้กรอก “unknown” แทน null     |\n",
    "| เติมด้วยค่าพิเศษ เช่น `-999` หรือ `0` | ใช้กับ ML (และต้องสร้าง flag `was_missing`) |\n",
    "| ลบทิ้ง (`drop`)                       | ข้อมูลมีไม่มากหรือ column นั้นไม่จำเป็น     |\n"
   ]
  },
  {
   "cell_type": "markdown",
   "id": "91d18aa4",
   "metadata": {},
   "source": [
    "🧠 สรุปง่ายๆ"
   ]
  },
  {
   "cell_type": "markdown",
   "id": "c1df7085",
   "metadata": {},
   "source": [
    "| งาน                | แนวทางจัดการ Missing                                                       |\n",
    "| ------------------ | -------------------------------------------------------------------------- |\n",
    "| **Dashboard / BI** | เติมเฉพาะจุดที่มีผลต่อการแสดงผล (mean, median, mode), หรือกรองออก          |\n",
    "| **ML**             | เติมให้ครบทุก row, สร้าง flag `was_missing`, หรือ drop column ที่ไม่จำเป็น |\n"
   ]
  },
  {
   "cell_type": "markdown",
   "id": "ce71e57a",
   "metadata": {},
   "source": [
    "#### 🧨 2. กรณีข้อมูลที่เป็น outlier"
   ]
  },
  {
   "cell_type": "markdown",
   "id": "c4128fe5",
   "metadata": {},
   "source": [
    "- เมื่อเราใช้ Describe Summary Statistics แล้วเราต้องตรวจสอบหา Outlier จาก IQR หรือ Z-score"
   ]
  },
  {
   "cell_type": "markdown",
   "id": "818e37aa",
   "metadata": {},
   "source": [
    "##### 🔹 สองวิธีหลักในการตรวจสอบ Outlier"
   ]
  },
  {
   "cell_type": "markdown",
   "id": "bad158a2",
   "metadata": {},
   "source": [
    "1. IQR Method (Interquartile Range) → ใช้ในทางสถิติทั่วไป ( นิยม )\n",
    "- คำนวณจาก:\n",
    "  \n",
    "  - IQR = Q3 - Q1\n",
    "  \n",
    "  - Outlier = ค่าใดๆ ที่อยู่นอกช่วง\n",
    "  \n",
    "  - Q1−1.5×IQR,Q3+1.5×IQR\n",
    "  \n",
    "  - ใช้กับข้อมูลที่อาจไม่ปกติ (non-normal)\n",
    "\n",
    "  เหมาะกับ: ข้อมูลจริงในธุรกิจ เช่น ยอดขาย, รายได้, จำนวนวันใช้งาน ฯลฯ นิยมใช้ใน EDA, BI, และ dashboard"
   ]
  },
  {
   "cell_type": "markdown",
   "id": "59de32d2",
   "metadata": {},
   "source": [
    "2. Z-score Method (Mean ± 3×StdDev) → ใช้กับข้อมูลที่เป็น Normal\n",
    "- คำนวณจาก:\n",
    "  \n",
    "  - ค่า Z-score = (x-mean)/stddev\n",
    "  \n",
    "  - Outlier = ค่าใดๆ ที่มี |Z| > 3\n",
    "  \n",
    "  - ต้องแน่ใจว่าข้อมูลใกล้เคียง normal จริง (ใช้ histogram, skewness เช็คได้)\n",
    "\n",
    "  เหมาะกับ: ข้อมูลเชิงทดลอง, sensor, ML preprocessing ฯลฯ"
   ]
  },
  {
   "cell_type": "markdown",
   "id": "489a8864",
   "metadata": {},
   "source": [
    "📌 สรุปเปรียบเทียบ"
   ]
  },
  {
   "cell_type": "markdown",
   "id": "10b6758d",
   "metadata": {},
   "source": [
    "| วิธี    | ต้องเป็น Normal? | ใช้บ่อยกับ    | เกณฑ์ตัด   | ความนิยม        |\n",
    "| ------- | ---------------- | ------------- | ---------- | --------------- |\n",
    "| IQR     | ❌ ไม่ต้อง        | Business, EDA | Q1±1.5×IQR | ✅ มาก           |\n",
    "| Z-score | ✅ ต้อง           | ML, Math      | mean±3×std | 🔄 ใช้เฉพาะกรณี |"
   ]
  },
  {
   "cell_type": "markdown",
   "id": "2e427196",
   "metadata": {},
   "source": [
    "##### เมื่อเจอ outlier ต้องจัดการยังไง?"
   ]
  },
  {
   "cell_type": "markdown",
   "id": "d1e77913",
   "metadata": {},
   "source": [
    "✅ แนวทางการจัดการ:"
   ]
  },
  {
   "cell_type": "markdown",
   "id": "94e7b08d",
   "metadata": {},
   "source": [
    "| วิธีจัดการ                               | เหมาะกับกรณี               | ตัวอย่าง                        |\n",
    "| ---------------------------------------- | -------------------------- | ------------------------------- |\n",
    "| ลบทิ้ง                                   | ถ้าเป็นค่าผิดพลาดที่ชัดเจน | ราคา = 999999 ในสินค้าธรรมดา    |\n",
    "| ตัดค่าให้เป็น upper/lower limit (`clip`) | ถ้าค่าหลุดนิดหน่อย         | limit `quantity` ให้อยู่ 1–10   |\n",
    "| แปลงข้อมูล (Transformation)              | ถ้าข้อมูล skew มาก         | ใช้ `log(price)` ลดผล outlier   |\n",
    "| สร้าง feature ใหม่แทน (แทนที่จะลบ)       | สำหรับ ML model            | เพิ่ม `is_outlier` เป็น feature |\n",
    "| เก็บไว้หาความรู้เชิงธุรกิจ               | ถ้าข้อมูลดู “จริง”         | ลูกค้าสั่งซื้อ 1000 ชิ้นจริง ๆ  |"
   ]
  },
  {
   "cell_type": "markdown",
   "id": "cef55f6d",
   "metadata": {},
   "source": [
    "✅ Tips: อย่าลบ outlier ถ้า อาจเป็น insight สำคัญทางธุรกิจ เช่น ลูกค้ารายใหญ่"
   ]
  },
  {
   "cell_type": "markdown",
   "id": "7a49644e",
   "metadata": {},
   "source": [
    "##### ✅ วิธีจัดการ Outlier แบ่งตามวัตถุประสงค์ของงาน"
   ]
  },
  {
   "cell_type": "markdown",
   "id": "0a30d800",
   "metadata": {},
   "source": [
    "🔹 1. ถ้าทำ Dashboard / BI / Report"
   ]
  },
  {
   "cell_type": "markdown",
   "id": "f6830d97",
   "metadata": {},
   "source": [
    "| กรณี                                                    | แนวทางที่นิยม                                       |\n",
    "| ------------------------------------------------------- | --------------------------------------------------- |\n",
    "| **Outlier ที่ผิดพลาดจริง (เช่น 9999, -100)**            | ลบทิ้งหรือตัดออก                                    |\n",
    "| **Outlier ที่เป็นจริง (เช่น VIP customer ซื้อเยอะมาก)** | ✅ เก็บไว้แยกกลุ่ม เช่น segment หรือ plot แยกต่างหาก |\n"
   ]
  },
  {
   "cell_type": "markdown",
   "id": "36a3a810",
   "metadata": {},
   "source": [
    "💡 เหตุผล: เพื่อไม่ให้ค่าเฉลี่ย/กราฟโดนลากผิดเพี้ยน เช่น bar chart มี scale สูงเกินจาก outlier เดียว"
   ]
  },
  {
   "cell_type": "markdown",
   "id": "286b10e5",
   "metadata": {},
   "source": [
    "🔹 2. ถ้าใช้กับ Machine Learning Model"
   ]
  },
  {
   "cell_type": "markdown",
   "id": "cb6d526c",
   "metadata": {},
   "source": [
    "| กรณี                       | แนวทางที่นิยม                                                                          |\n",
    "| -------------------------- | -------------------------------------------------------------------------------------- |\n",
    "| **Outlier ที่ผิดพลาดจริง** | แก้ไขหรือลบทิ้ง (เพราะมันรบกวนโมเดล)                                                   |\n",
    "| **Outlier ที่เป็นจริง**    | ✅ *ไม่ลบ!* เก็บไว้และ **สร้าง feature** เช่น `is_outlier = true` เพื่อให้โมเดลเรียนรู้ |"
   ]
  },
  {
   "cell_type": "markdown",
   "id": "624f4588",
   "metadata": {},
   "source": [
    "💡 เหตุผล: โมเดลจะเรียนรู้จากพฤติกรรมของกลุ่ม outlier ได้ เช่น ลูกค้าระดับสูง, ผู้ใช้ผิดปกติ ฯลฯ"
   ]
  },
  {
   "cell_type": "markdown",
   "id": "4f63246f",
   "metadata": {},
   "source": [
    "✳️ เทคนิคเสริมที่ใช้ร่วม:"
   ]
  },
  {
   "cell_type": "markdown",
   "id": "5bbc1396",
   "metadata": {},
   "source": [
    "- สร้าง is_outlier = true/false ไว้ใน dataset\n",
    "\n",
    "- อาจใช้เทคนิค Robust Model หรือ Log Transform ลดผลกระทบของ outlier\n",
    "\n",
    "- ใน unsupervised (เช่น clustering) ก็ใช้ outlier เป็น insight ได้"
   ]
  },
  {
   "cell_type": "markdown",
   "id": "06fecca8",
   "metadata": {},
   "source": [
    "🎯 สรุปอีกทีแบบย่อ:"
   ]
  },
  {
   "cell_type": "markdown",
   "id": "05b8b386",
   "metadata": {},
   "source": [
    "| งาน              | ทำกับ Outlier ยังไง                                               |\n",
    "| ---------------- | ----------------------------------------------------------------- |\n",
    "| **BI/Dashboard** | ลบ outlier ที่ผิด, แยกแสดง outlier ที่จริง                        |\n",
    "| **ML**           | ลบแค่ที่ผิดพลาด, ที่จริงให้เก็บไว้ พร้อมสร้าง flag (`is_outlier`) |"
   ]
  },
  {
   "cell_type": "markdown",
   "id": "5a706fc9",
   "metadata": {},
   "source": [
    "##### 🛠 ตัวอย่างการจัดการใน PySpark"
   ]
  },
  {
   "cell_type": "markdown",
   "id": "3dffc624",
   "metadata": {},
   "source": [
    "👉 ลบแถวที่มี null:"
   ]
  },
  {
   "cell_type": "code",
   "execution_count": null,
   "id": "25bb996e",
   "metadata": {},
   "outputs": [],
   "source": [
    "df_clean = df.dropna(subset=[\"total_price\", \"quantity\"]) # type: ignore"
   ]
  },
  {
   "cell_type": "markdown",
   "id": "76aea801",
   "metadata": {},
   "source": [
    "👉 เติมค่าด้วย mean:"
   ]
  },
  {
   "cell_type": "code",
   "execution_count": null,
   "id": "fb12dda0",
   "metadata": {},
   "outputs": [],
   "source": [
    "from pyspark.sql.functions import mean\n",
    "mean_price = df.select(mean(\"total_price\")).collect()[0][0] # type: ignore\n",
    "df_filled = df.na.fill({\"total_price\": mean_price}) # type: ignore"
   ]
  },
  {
   "cell_type": "markdown",
   "id": "462d4688",
   "metadata": {},
   "source": [
    "\n",
    "👉 ลบ outlier (เกิน ±3 stddev):"
   ]
  },
  {
   "cell_type": "code",
   "execution_count": null,
   "id": "a6edb9a2",
   "metadata": {},
   "outputs": [],
   "source": [
    "from pyspark.sql.functions import col, mean, stddev\n",
    "\n",
    "stats = df.select(mean(\"total_price\"), stddev(\"total_price\")).first() # type: ignore\n",
    "mean_val = stats[0]\n",
    "std_val = stats[1]\n",
    "\n",
    "df_filtered = df.filter( # type: ignore\n",
    "    (col(\"total_price\") >= mean_val - 3 * std_val) &\n",
    "    (col(\"total_price\") <= mean_val + 3 * std_val)\n",
    ")"
   ]
  },
  {
   "cell_type": "markdown",
   "id": "f65a2888",
   "metadata": {},
   "source": [
    "#### 🧠 สรุปเป็น Pattern ที่ใช้จริง"
   ]
  },
  {
   "cell_type": "markdown",
   "metadata": {},
   "source": [
    "| กรณี                        | สิ่งที่ทำ                                      |\n",
    "| --------------------------- | ---------------------------------------------- |\n",
    "| NULL < 5%                   | ลบทิ้ง                                         |\n",
    "| NULL > 30%                   | เติม mean/median หรือ \"Unknown\"                |\n",
    "| NULL มี logic อื่นให้เติม   | คำนวณจาก column อื่น                           |\n",
    "| Outlier จริง                | แยกไว้, สร้าง flag                             |\n",
    "| Outlier ผิด                 | ลบหรือ fix                                     |\n",
    "| ไม่แน่ใจว่า outlier จริงไหม | ตรวจสอบกับธุรกิจหรือ log ระบบ                  |\n",
    "| ส่งต่อไปใช้ ML              | สร้าง column ใหม่ เช่น `is_outlier`, `is_null` |\n"
   ]
  }
 ],
 "metadata": {
  "language_info": {
   "name": "python"
  }
 },
 "nbformat": 4,
 "nbformat_minor": 5
}
