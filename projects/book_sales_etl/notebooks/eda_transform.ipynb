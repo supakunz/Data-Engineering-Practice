{
 "cells": [
  {
   "cell_type": "markdown",
   "id": "3928f1ef",
   "metadata": {},
   "source": [
    "## Book Sales - EDA & Transformation\n",
    "\n",
    "วิเคราะห์ข้อมูลยอดขายหนังสือจากไฟล์ CSV ด้วย PySpark เพื่อเตรียมข้อมูลสำหรับนำไปใช้ในขั้นตอนถัดไปของ data pipeline เช่น การโหลดลง data warehouse หรือการทำ dashboard"
   ]
  },
  {
   "cell_type": "code",
   "execution_count": 6,
   "id": "1f13bd34",
   "metadata": {},
   "outputs": [],
   "source": [
    "import os\n",
    "os.environ[\"JAVA_HOME\"] = \"C:/Java/jdk-11.0.28.6-hotspot\"\n",
    "os.environ[\"SPARK_HOME\"] = \"C:/Spark/spark-3.4.4-bin-hadoop3\"\n",
    "\n",
    "import findspark\n",
    "findspark.init()"
   ]
  },
  {
   "cell_type": "code",
   "execution_count": 7,
   "id": "fc0d67e5",
   "metadata": {},
   "outputs": [],
   "source": [
    "from pyspark.sql import SparkSession\n",
    "\n",
    "spark = SparkSession.builder \\\n",
    "  .appName(\"test\") \\\n",
    "  .getOrCreate()"
   ]
  },
  {
   "cell_type": "markdown",
   "id": "7ec73671",
   "metadata": {},
   "source": [
    "### 1. Initialize Spark Session"
   ]
  },
  {
   "cell_type": "markdown",
   "id": "21b4baf5",
   "metadata": {},
   "source": [
    "- สร้าง SparkSession เพื่อใช้ประมวลผลข้อมูลด้วย PySpark"
   ]
  },
  {
   "cell_type": "code",
   "execution_count": 8,
   "id": "45008bba",
   "metadata": {},
   "outputs": [],
   "source": [
    "from pyspark.sql import SparkSession\n",
    "\n",
    "spark = SparkSession.builder \\\n",
    "    .appName(\"Book Sales - EDA & Transform\") \\\n",
    "    .master(\"local[*]\") \\\n",
    "    .getOrCreate()\n"
   ]
  },
  {
   "cell_type": "markdown",
   "id": "50c3b183",
   "metadata": {},
   "source": [
    "### 2. Load Raw Data"
   ]
  },
  {
   "cell_type": "markdown",
   "id": "44d3f07e",
   "metadata": {},
   "source": [
    "- โหลดข้อมูลจากไฟล์ CSV ที่เก็บข้อมูลยอดขายหนังสือแบบ mock"
   ]
  },
  {
   "cell_type": "code",
   "execution_count": 9,
   "id": "352c71e5",
   "metadata": {},
   "outputs": [],
   "source": [
    "df = spark.read.csv(\"../data/raw/book_sales_mock_data.csv\", header=True, inferSchema=True)"
   ]
  },
  {
   "cell_type": "markdown",
   "id": "a68f163c",
   "metadata": {},
   "source": [
    "### 3. Initial Data Exploration and Exploratory Data Analysis (EDA)"
   ]
  },
  {
   "cell_type": "markdown",
   "id": "2774c697",
   "metadata": {},
   "source": [
    "  ##### 3.1 Schema and Sample"
   ]
  },
  {
   "cell_type": "markdown",
   "id": "798250ec",
   "metadata": {},
   "source": [
    "- ดู schema และตัวอย่างข้อมูลเพื่อตรวจสอบว่า column มีชนิดข้อมูลถูกต้องหรือไม่"
   ]
  },
  {
   "cell_type": "code",
   "execution_count": 10,
   "id": "ae3ff6c4",
   "metadata": {},
   "outputs": [
    {
     "name": "stdout",
     "output_type": "stream",
     "text": [
      "root\n",
      " |-- order_id: integer (nullable = true)\n",
      " |-- book_title: string (nullable = true)\n",
      " |-- category: string (nullable = true)\n",
      " |-- store_location: string (nullable = true)\n",
      " |-- quantity: integer (nullable = true)\n",
      " |-- price_per_unit: double (nullable = true)\n",
      " |-- payment_method: string (nullable = true)\n",
      " |-- order_date: string (nullable = true)\n",
      " |-- total_price: double (nullable = true)\n",
      "\n",
      "+--------+-------------+---------+--------------+--------+--------------+--------------+----------+-----------+\n",
      "|order_id|   book_title| category|store_location|quantity|price_per_unit|payment_method|order_date|total_price|\n",
      "+--------+-------------+---------+--------------+--------+--------------+--------------+----------+-----------+\n",
      "|    1001|The Alchemist|  History|    Chiang Mai|       5|        221.19|          Cash| 24/5/2024|    1105.95|\n",
      "|    1002|Atomic Habits|  Finance|        Phuket|       5|        301.57|   Credit Card|  9/6/2024|    1507.85|\n",
      "|    1003|     Becoming|  History|       Bangkok|       1|        152.88|   Credit Card|  5/6/2024|     152.88|\n",
      "|    1004|Atomic Habits|Self-Help|       Bangkok|       5|        173.21|          Cash| 20/5/2024|     866.05|\n",
      "|    1005|Atomic Habits|  Finance|     Khon Kaen|       3|         159.2|          Cash| 15/2/2024|      477.6|\n",
      "+--------+-------------+---------+--------------+--------+--------------+--------------+----------+-----------+\n",
      "only showing top 5 rows\n",
      "\n"
     ]
    }
   ],
   "source": [
    "df.printSchema() # แสดงรายละเอียด Schema\n",
    "df.show(5) # แสดงตาราง"
   ]
  },
  {
   "cell_type": "markdown",
   "id": "c989e145",
   "metadata": {},
   "source": [
    "##### 3.2 Missing Values"
   ]
  },
  {
   "cell_type": "markdown",
   "id": "52ec6401",
   "metadata": {},
   "source": [
    "- ตรวจสอบว่าคอลัมน์ใดมี missing/null values ที่อาจต้องจัดการ"
   ]
  },
  {
   "cell_type": "markdown",
   "id": "92a20b1a",
   "metadata": {},
   "source": [
    "- `null` — คือค่าที่ “ไม่มีข้อมูล” หรือ “ว่าง” ใช้ได้กับทุกชนิดข้อมูล (string, number, date, ฯลฯ)\n",
    "\n",
    "- `NaN` — เป็นค่าพิเศษที่เกิดกับข้อมูลตัวเลข (float, double) แสดงว่า “ค่าไม่ใช่ตัวเลข” ค่าที่ข้อมูลเสียหาย"
   ]
  },
  {
   "cell_type": "markdown",
   "id": "22abbc52",
   "metadata": {},
   "source": [
    "1.กรณีที่มี data type เป็น string ทั้งหมดหาแค่ค่า `null` ให้ใช้แบบนี้"
   ]
  },
  {
   "cell_type": "code",
   "execution_count": 11,
   "id": "d412c4c5",
   "metadata": {},
   "outputs": [
    {
     "name": "stdout",
     "output_type": "stream",
     "text": [
      "+--------+----------+--------+--------------+--------+--------------+--------------+----------+-----------+\n",
      "|order_id|book_title|category|store_location|quantity|price_per_unit|payment_method|order_date|total_price|\n",
      "+--------+----------+--------+--------------+--------+--------------+--------------+----------+-----------+\n",
      "|       0|         0|       0|             0|       1|             0|             0|         0|          1|\n",
      "+--------+----------+--------+--------------+--------+--------------+--------------+----------+-----------+\n",
      "\n"
     ]
    }
   ],
   "source": [
    "from pyspark.sql.functions import col, when, count\n",
    "\n",
    "# นับจำนวนหาค่า null\n",
    "df.select([\n",
    "    count(when(col(c).isNull(), c)).alias(c)\n",
    "    for c in df.columns\n",
    "]).show()"
   ]
  },
  {
   "cell_type": "markdown",
   "id": "424c3ab1",
   "metadata": {},
   "source": [
    "2.กรณีที่มี data type มี float, double อยู่ด้วยต้องหา `null` และ `NaN` ให้ใช้แบบนี้ "
   ]
  },
  {
   "cell_type": "code",
   "execution_count": 12,
   "id": "69766497",
   "metadata": {},
   "outputs": [
    {
     "name": "stdout",
     "output_type": "stream",
     "text": [
      "+--------+----------+--------+--------------+--------+--------------+--------------+----------+-----------+\n",
      "|order_id|book_title|category|store_location|quantity|price_per_unit|payment_method|order_date|total_price|\n",
      "+--------+----------+--------+--------------+--------+--------------+--------------+----------+-----------+\n",
      "|       0|         0|       0|             0|       1|             0|             0|         0|          1|\n",
      "+--------+----------+--------+--------------+--------+--------------+--------------+----------+-----------+\n",
      "\n"
     ]
    }
   ],
   "source": [
    "from pyspark.sql.functions import col, isnan, count, when\n",
    "from pyspark.sql.types import FloatType, DoubleType, NumericType\n",
    "\n",
    "# นับจำนวนหาค่า null และ NaN\n",
    "def count_missing(df):\n",
    "    exprs = []\n",
    "    for c, dtype in df.dtypes:\n",
    "        if dtype in ('float', 'double'):\n",
    "            expr = count(when(col(c).isNull() | isnan(col(c)), c)).alias(c)\n",
    "        else:\n",
    "            expr = count(when(col(c).isNull(), c)).alias(c)\n",
    "        exprs.append(expr)\n",
    "    return df.select(exprs)\n",
    "\n",
    "count_missing(df).show()\n"
   ]
  },
  {
   "cell_type": "markdown",
   "id": "1a3c0072",
   "metadata": {},
   "source": [
    "##### ❌กรณีที่เจอค่า null"
   ]
  },
  {
   "cell_type": "markdown",
   "id": "022566d3",
   "metadata": {},
   "source": [
    "##### ✅ เช็กแถวที่มี null"
   ]
  },
  {
   "cell_type": "code",
   "execution_count": 13,
   "id": "5ddcfe9d",
   "metadata": {},
   "outputs": [
    {
     "name": "stdout",
     "output_type": "stream",
     "text": [
      "+--------+--------------------+--------+--------------+--------+--------------+--------------+----------+-----------+\n",
      "|order_id|          book_title|category|store_location|quantity|price_per_unit|payment_method|order_date|total_price|\n",
      "+--------+--------------------+--------+--------------+--------+--------------+--------------+----------+-----------+\n",
      "|    1014|The Midnight Library| Fiction|    Chiang Mai|       1|        236.77|   Credit Card| 30/1/2024|       null|\n",
      "+--------+--------------------+--------+--------------+--------+--------------+--------------+----------+-----------+\n",
      "\n"
     ]
    }
   ],
   "source": [
    "# เลือกแถวที่ column 'total_price' เป็น null\n",
    "df.filter(col(\"total_price\").isNull()).show()"
   ]
  },
  {
   "cell_type": "markdown",
   "id": "dc1f945d",
   "metadata": {},
   "source": [
    "##### ✅ เช็กทุกแถวที่มี null"
   ]
  },
  {
   "cell_type": "code",
   "execution_count": 14,
   "id": "a39e769e",
   "metadata": {},
   "outputs": [
    {
     "name": "stdout",
     "output_type": "stream",
     "text": [
      "+--------+--------------------+---------+--------------+--------+--------------+--------------+----------+-----------+\n",
      "|order_id|          book_title| category|store_location|quantity|price_per_unit|payment_method|order_date|total_price|\n",
      "+--------+--------------------+---------+--------------+--------+--------------+--------------+----------+-----------+\n",
      "|    1014|The Midnight Library|  Fiction|    Chiang Mai|       1|        236.77|   Credit Card| 30/1/2024|       null|\n",
      "|    1042|            Educated|Biography|       Bangkok|    null|        153.64|          Cash|  3/1/2024|     614.56|\n",
      "+--------+--------------------+---------+--------------+--------+--------------+--------------+----------+-----------+\n",
      "\n"
     ]
    }
   ],
   "source": [
    "from functools import reduce\n",
    "from pyspark.sql.functions import col\n",
    "\n",
    "# สร้าง filter สำหรับทุก column\n",
    "null_filter = [col(c).isNull() for c in df.columns]\n",
    "df.filter(reduce(lambda a, b: a | b, null_filter)).show()"
   ]
  },
  {
   "cell_type": "markdown",
   "id": "ee7933dc",
   "metadata": {},
   "source": [
    "##### ดังนั้นเวลาตรวจสอบข้อมูล\n",
    "\n",
    "- เราเช็คชนิดข้อมูล (dtype) ของแต่ละคอลัมน์\n",
    "\n",
    "- สำหรับ string หรือชนิดอื่น ๆ ที่ไม่ใช่ตัวเลข → เช็คแค่ `null` ก็พอ\n",
    "\n",
    "- สำหรับ ตัวเลข (float, double) → ควรเช็คทั้ง `null` และ `NaN` เพื่อครอบคลุมทุกกรณี\n"
   ]
  },
  {
   "cell_type": "markdown",
   "id": "dab37d16",
   "metadata": {},
   "source": [
    "การจัดการกับ missing value"
   ]
  },
  {
   "cell_type": "markdown",
   "id": "6de8472f",
   "metadata": {},
   "source": [
    "- `fillna` และ `dropna` คือ 2 วิธีหลักในการจัดการ Missing Values (NaN)"
   ]
  },
  {
   "cell_type": "code",
   "execution_count": 80,
   "id": "dca06c7b",
   "metadata": {},
   "outputs": [],
   "source": [
    "df_cleaned = df.fillna(0)\n",
    "# → เติม 0 แทนค่า missing"
   ]
  },
  {
   "cell_type": "markdown",
   "id": "f834c1c0",
   "metadata": {},
   "source": [
    "หรือ"
   ]
  },
  {
   "cell_type": "code",
   "execution_count": 16,
   "id": "8b845216",
   "metadata": {},
   "outputs": [
    {
     "name": "stdout",
     "output_type": "stream",
     "text": [
      "+--------+--------------------+---------+--------------+--------+--------------+--------------+----------+-----------------+\n",
      "|order_id|          book_title| category|store_location|quantity|price_per_unit|payment_method|order_date|      total_price|\n",
      "+--------+--------------------+---------+--------------+--------+--------------+--------------+----------+-----------------+\n",
      "|    1001|       The Alchemist|  History|    Chiang Mai|       5|        221.19|          Cash| 24/5/2024|          1105.95|\n",
      "|    1002|       Atomic Habits|  Finance|        Phuket|       5|        301.57|   Credit Card|  9/6/2024|          1507.85|\n",
      "|    1003|            Becoming|  History|       Bangkok|       1|        152.88|   Credit Card|  5/6/2024|           152.88|\n",
      "|    1004|       Atomic Habits|Self-Help|       Bangkok|       5|        173.21|          Cash| 20/5/2024|           866.05|\n",
      "|    1005|       Atomic Habits|  Finance|     Khon Kaen|       3|         159.2|          Cash| 15/2/2024|            477.6|\n",
      "|    1006|The Midnight Library|Biography|        Phuket|       4|        158.15|   Credit Card|  4/2/2024|            632.6|\n",
      "|    1007|            Becoming|  Fiction|      Songkhla|       1|        321.09|       QR Code| 13/5/2024|           321.09|\n",
      "|    1008|            Becoming|  History|        Phuket|       4|        290.73|   Credit Card| 22/3/2024|          1162.92|\n",
      "|    1009|            Becoming|  Fiction|     Khon Kaen|       5|        244.83|          Cash| 24/4/2024|          1224.15|\n",
      "|    1010|       Atomic Habits|  Fiction|     Khon Kaen|       5|        169.57|   Credit Card| 16/2/2024|           847.85|\n",
      "|    1011|       The Alchemist|  Finance|        Phuket|       1|        248.32|          Cash|  1/6/2024|           248.32|\n",
      "|    1012|            Becoming|  Fiction|     Khon Kaen|       3|        244.69|   Credit Card| 10/1/2024|           734.07|\n",
      "|    1013|       Atomic Habits|Biography|        Phuket|       2|        184.64|       QR Code| 25/2/2024|           369.28|\n",
      "|    1014|The Midnight Library|  Fiction|    Chiang Mai|       1|        236.77|   Credit Card| 30/1/2024|848.7104040404043|\n",
      "|    1015|       The Alchemist|  Finance|        Phuket|       2|         229.7|   Credit Card| 18/4/2024|            459.4|\n",
      "|    1016|The Midnight Library|Biography|        Phuket|       2|        273.17|          Cash|  5/1/2024|           546.34|\n",
      "|    1017|       The Alchemist|Self-Help|     Khon Kaen|       3|        277.02|          Cash| 28/4/2024|           831.06|\n",
      "|    1018|       Atomic Habits|  Fiction|     Khon Kaen|       2|        159.06|          Cash|  2/2/2024|           318.12|\n",
      "|    1019|            Educated|  Finance|       Bangkok|       2|        224.92|   Credit Card| 27/4/2024|           449.84|\n",
      "|    1020|       The Alchemist|Self-Help|       Bangkok|       3|        275.17|       QR Code|  5/3/2024|           825.51|\n",
      "+--------+--------------------+---------+--------------+--------+--------------+--------------+----------+-----------------+\n",
      "only showing top 20 rows\n",
      "\n"
     ]
    }
   ],
   "source": [
    "from pyspark.sql import functions as F\n",
    "\n",
    "# 1. คำนวณค่าเฉลี่ยของ total_price\n",
    "mean_value = df.select(F.mean(\"total_price\")).collect()[0][0]\n",
    "\n",
    "# 2. ใช้ fillna เพื่อเติมช่องว่างด้วยค่า mean\n",
    "df_cleaned = df.fillna({\"total_price\": mean_value})\n",
    "\n",
    "df_cleaned.show()"
   ]
  },
  {
   "cell_type": "code",
   "execution_count": 19,
   "id": "38340a88",
   "metadata": {},
   "outputs": [
    {
     "name": "stdout",
     "output_type": "stream",
     "text": [
      "+--------+--------------------+--------+--------------+--------+--------------+--------------+----------+-----------------+\n",
      "|order_id|          book_title|category|store_location|quantity|price_per_unit|payment_method|order_date|      total_price|\n",
      "+--------+--------------------+--------+--------------+--------+--------------+--------------+----------+-----------------+\n",
      "|    1014|The Midnight Library| Fiction|    Chiang Mai|       1|        236.77|   Credit Card| 30/1/2024|848.7104040404043|\n",
      "+--------+--------------------+--------+--------------+--------+--------------+--------------+----------+-----------------+\n",
      "\n"
     ]
    }
   ],
   "source": [
    "df_cleaned.filter(df_cleaned.order_id == 1014).show()"
   ]
  },
  {
   "cell_type": "markdown",
   "id": "1de809e9",
   "metadata": {},
   "source": [
    "👉 ลบแถวที่มี null:"
   ]
  },
  {
   "cell_type": "code",
   "execution_count": 11,
   "id": "6b08f2c4",
   "metadata": {},
   "outputs": [],
   "source": [
    "df_cleaned =  df.dropna(subset=[\"total_price\",\"quantity\"])"
   ]
  },
  {
   "cell_type": "code",
   "execution_count": 67,
   "id": "d1c4f807",
   "metadata": {},
   "outputs": [
    {
     "name": "stdout",
     "output_type": "stream",
     "text": [
      "+--------+----------+--------+--------------+--------+--------------+--------------+----------+-----------+\n",
      "|order_id|book_title|category|store_location|quantity|price_per_unit|payment_method|order_date|total_price|\n",
      "+--------+----------+--------+--------------+--------+--------------+--------------+----------+-----------+\n",
      "+--------+----------+--------+--------------+--------+--------------+--------------+----------+-----------+\n",
      "\n"
     ]
    }
   ],
   "source": [
    "# ลองตรวจสอบว่าลบค่า null แล้วไหม\n",
    "df_cleaned.filter(reduce(lambda a, b: a | b, null_filter)).show()"
   ]
  },
  {
   "cell_type": "markdown",
   "id": "7483fb26",
   "metadata": {},
   "source": [
    "##### 3.3 Summary Stats (เฉพาะ numeric column)"
   ]
  },
  {
   "cell_type": "markdown",
   "id": "ddb65b33",
   "metadata": {},
   "source": [
    "- ดูสถิติเบื้องต้น เช่น ค่ามากสุด น้อยสุด ค่าเฉลี่ย ของยอดขายและจำนวน"
   ]
  },
  {
   "cell_type": "markdown",
   "id": "7a36ad14",
   "metadata": {},
   "source": [
    "✅ 1. ดูค่าคร่าว ๆ ด้วย describe()"
   ]
  },
  {
   "cell_type": "markdown",
   "id": "c89d072b",
   "metadata": {},
   "source": [
    "- ดู max ว่ามีค่าโดดสูงกว่าค่าอื่นหรือเปล่า\n",
    "\n",
    "- ดู stddev ว่าเยอะจนบ่งบอกว่าข้อมูลกระจายมากเกินไปหรือไม่"
   ]
  },
  {
   "cell_type": "code",
   "execution_count": 13,
   "id": "bea77ec5",
   "metadata": {},
   "outputs": [
    {
     "name": "stdout",
     "output_type": "stream",
     "text": [
      "+-------+------------------+------------------+------------------+\n",
      "|summary|          quantity|    price_per_unit|       total_price|\n",
      "+-------+------------------+------------------+------------------+\n",
      "|  count|                98|                98|                98|\n",
      "|   mean| 2.989795918367347|249.95724489795904| 851.0996938775513|\n",
      "| stddev|1.4537182894693896| 60.13809986371167|1021.7233795244754|\n",
      "|    min|                 1|            152.17|            152.88|\n",
      "|    max|                 5|             348.1|            9999.0|\n",
      "+-------+------------------+------------------+------------------+\n",
      "\n"
     ]
    }
   ],
   "source": [
    "df_cleaned.describe([\"quantity\", \"price_per_unit\" ,\"total_price\"]).show()"
   ]
  },
  {
   "cell_type": "markdown",
   "id": "562c81b2",
   "metadata": {},
   "source": [
    "✅การวิเคราะห์:"
   ]
  },
  {
   "cell_type": "markdown",
   "id": "e37c6561",
   "metadata": {},
   "source": [
    "- count = quantity และ total_price 99 ทั้งสอง → มี missing value\n",
    "\n",
    "- mean ของ quantity = 2.9, 248.8, 749.8\n",
    "\n",
    "- stddev ของ total_price ผิดปกติ\n",
    "\n",
    "- max ของ total_price = 9999 → อาจมีการป้อนข้อมูลผิด\n",
    "\n",
    "- ตรวจต่อว่า outlier หรือไม่ โดยใช้ IQR :"
   ]
  },
  {
   "cell_type": "code",
   "execution_count": 14,
   "id": "4e4d675c",
   "metadata": {},
   "outputs": [
    {
     "name": "stdout",
     "output_type": "stream",
     "text": [
      "Lower: -624.5749999999999, Upper: 2025.705\n"
     ]
    }
   ],
   "source": [
    "from pyspark.sql import functions as F\n",
    "\n",
    "# df คือ PySpark DataFrame\n",
    "quantiles = df.approxQuantile(\"total_price\", [0.25, 0.75], 0.01) # มีพารามิเตอร์ที่ 3 คือ relativeError → ยิ่งเล็กยิ่งแม่น (แต่อาจช้าลง)\n",
    "Q1, Q3 = quantiles\n",
    "IQR = Q3 - Q1\n",
    "\n",
    "lower_bound = Q1 - 1.5 * IQR\n",
    "upper_bound = Q3 + 1.5 * IQR\n",
    "\n",
    "print(f\"Lower: {lower_bound}, Upper: {upper_bound}\")"
   ]
  },
  {
   "cell_type": "markdown",
   "id": "bf1056b5",
   "metadata": {},
   "source": [
    "- ค่าที่มีมากกว่า 2025.705 มีค่าผิดปกติเป็น outlier"
   ]
  },
  {
   "cell_type": "markdown",
   "id": "9f3fb2c1",
   "metadata": {},
   "source": [
    "หาค่าทั้งหมดที่เป็น outlier :"
   ]
  },
  {
   "cell_type": "code",
   "execution_count": 15,
   "id": "7ccb8776",
   "metadata": {},
   "outputs": [
    {
     "name": "stdout",
     "output_type": "stream",
     "text": [
      "+--------+-------------+--------+--------------+--------+--------------+--------------+----------+-----------+\n",
      "|order_id|   book_title|category|store_location|quantity|price_per_unit|payment_method|order_date|total_price|\n",
      "+--------+-------------+--------+--------------+--------+--------------+--------------+----------+-----------+\n",
      "|    1075|Atomic Habits| History|        Phuket|       1|        214.01|          Cash| 21/4/2024|     9999.0|\n",
      "+--------+-------------+--------+--------------+--------+--------------+--------------+----------+-----------+\n",
      "\n"
     ]
    }
   ],
   "source": [
    "df.filter((col(\"total_price\") < lower_bound) | (col(\"total_price\") > upper_bound)).show()"
   ]
  },
  {
   "cell_type": "markdown",
   "id": "19cfd624",
   "metadata": {},
   "source": [
    "✅ 2. ต่อด้วย Boxplot หรือ Histogram (เมื่อเจอ outlier)"
   ]
  },
  {
   "cell_type": "markdown",
   "id": "1046f525",
   "metadata": {},
   "source": [
    "- เพื่อดูว่า outlier มีแค่ 1-2 ตัว หรือหลายตัวกระจุกอยู่แปลก ๆ"
   ]
  },
  {
   "cell_type": "code",
   "execution_count": 16,
   "id": "85730fc6",
   "metadata": {},
   "outputs": [
    {
     "name": "stdout",
     "output_type": "stream",
     "text": [
      "Requirement already satisfied: seaborn in c:\\users\\admin\\appdata\\local\\programs\\python\\python310\\lib\\site-packages (0.13.2)Note: you may need to restart the kernel to use updated packages.\n"
     ]
    },
    {
     "name": "stderr",
     "output_type": "stream",
     "text": [
      "WARNING: You are using pip version 21.2.3; however, version 25.2 is available.\n",
      "You should consider upgrading via the 'c:\\Users\\Admin\\AppData\\Local\\Programs\\Python\\Python310\\python.exe -m pip install --upgrade pip' command.\n"
     ]
    },
    {
     "name": "stdout",
     "output_type": "stream",
     "text": [
      "\n",
      "Requirement already satisfied: numpy!=1.24.0,>=1.20 in c:\\users\\admin\\appdata\\local\\programs\\python\\python310\\lib\\site-packages (from seaborn) (2.2.6)\n",
      "Requirement already satisfied: pandas>=1.2 in c:\\users\\admin\\appdata\\local\\programs\\python\\python310\\lib\\site-packages (from seaborn) (2.3.1)\n",
      "Requirement already satisfied: matplotlib!=3.6.1,>=3.4 in c:\\users\\admin\\appdata\\local\\programs\\python\\python310\\lib\\site-packages (from seaborn) (3.10.3)\n",
      "Requirement already satisfied: pillow>=8 in c:\\users\\admin\\appdata\\local\\programs\\python\\python310\\lib\\site-packages (from matplotlib!=3.6.1,>=3.4->seaborn) (11.3.0)\n",
      "Requirement already satisfied: cycler>=0.10 in c:\\users\\admin\\appdata\\local\\programs\\python\\python310\\lib\\site-packages (from matplotlib!=3.6.1,>=3.4->seaborn) (0.12.1)\n",
      "Requirement already satisfied: python-dateutil>=2.7 in c:\\users\\admin\\appdata\\roaming\\python\\python310\\site-packages (from matplotlib!=3.6.1,>=3.4->seaborn) (2.9.0.post0)\n",
      "Requirement already satisfied: kiwisolver>=1.3.1 in c:\\users\\admin\\appdata\\local\\programs\\python\\python310\\lib\\site-packages (from matplotlib!=3.6.1,>=3.4->seaborn) (1.4.8)\n",
      "Requirement already satisfied: contourpy>=1.0.1 in c:\\users\\admin\\appdata\\local\\programs\\python\\python310\\lib\\site-packages (from matplotlib!=3.6.1,>=3.4->seaborn) (1.3.2)\n",
      "Requirement already satisfied: fonttools>=4.22.0 in c:\\users\\admin\\appdata\\local\\programs\\python\\python310\\lib\\site-packages (from matplotlib!=3.6.1,>=3.4->seaborn) (4.59.0)\n",
      "Requirement already satisfied: packaging>=20.0 in c:\\users\\admin\\appdata\\roaming\\python\\python310\\site-packages (from matplotlib!=3.6.1,>=3.4->seaborn) (25.0)\n",
      "Requirement already satisfied: pyparsing>=2.3.1 in c:\\users\\admin\\appdata\\local\\programs\\python\\python310\\lib\\site-packages (from matplotlib!=3.6.1,>=3.4->seaborn) (3.2.3)\n",
      "Requirement already satisfied: tzdata>=2022.7 in c:\\users\\admin\\appdata\\local\\programs\\python\\python310\\lib\\site-packages (from pandas>=1.2->seaborn) (2025.2)\n",
      "Requirement already satisfied: pytz>=2020.1 in c:\\users\\admin\\appdata\\local\\programs\\python\\python310\\lib\\site-packages (from pandas>=1.2->seaborn) (2025.2)\n",
      "Requirement already satisfied: six>=1.5 in c:\\users\\admin\\appdata\\roaming\\python\\python310\\site-packages (from python-dateutil>=2.7->matplotlib!=3.6.1,>=3.4->seaborn) (1.17.0)\n"
     ]
    }
   ],
   "source": [
    "%pip install seaborn"
   ]
  },
  {
   "cell_type": "markdown",
   "id": "932036bf",
   "metadata": {},
   "source": [
    "##### 📊 plot boxplot หลังทำ IQR"
   ]
  },
  {
   "cell_type": "markdown",
   "id": "070bffb1",
   "metadata": {},
   "source": [
    "🎯 เป้าหมายของการ Plot:\n",
    "\n",
    "- ✅ ดูการกระจายตัวของข้อมูล (Distribution)\n",
    "\n",
    "- ✅ ดูว่ามี outlier จริงไหม และอยู่ห่างจากกลุ่มหลักแค่ไหน\n",
    "\n",
    "- ✅ ดูว่า IQR ที่คุณใช้ detect มันเหมาะสมไหม\n",
    "\n",
    "- ✅ ใช้ตรวจสอบ bias ในข้อมูล (เช่น skew ไปทางซ้าย/ขวา)"
   ]
  },
  {
   "cell_type": "markdown",
   "id": "dc3164b6",
   "metadata": {},
   "source": [
    "##### ⚠️ สิ่งที่ต้องระวัง\n",
    "\n",
    "- อย่าสุ่มแบบไม่ fix `seed` เพราะอาจเจอหรือไม่เจอ outlier → ค่ากระจายอาจต่าง\n",
    "\n",
    "- อย่าใช้ `.toPandas()` บน DataFrame ใหญ่ → ใช้ `.sample()` + `.collect()` แทน\n",
    "\n",
    "- ถ้าไม่เห็น outlier บน boxplot = คุณอาจต้องเพิ่มจำนวน sample หรือรวม outlier เข้ามาให้ครบ\n",
    "\n",
    "- คือถ้าใช้ sample มันจะสุ่มค่าบางส่วนนำไปแสดงแต่ถ้าใช้ toPandas มันจะแปลงค่าทั้งหมดมา **ห้าม** ใช้กับข้อมูลที่ Big Data"
   ]
  },
  {
   "cell_type": "code",
   "execution_count": 17,
   "id": "15cee2a4",
   "metadata": {},
   "outputs": [
    {
     "data": {
      "image/png": "[encoded data removed]",
      "text/plain": [
       "<Figure size 640x480 with 1 Axes>"
      ]
     },
     "metadata": {},
     "output_type": "display_data"
    }
   ],
   "source": [
    "# Sample ข้อมูล แล้ว collect มาก่อน แทน toPandas() ตรง ๆ\n",
    "sample_data = df_cleaned.select(\"total_price\").sample(fraction=0.1, seed=42).limit(1000).collect()\n",
    "\n",
    "# แปลงเป็น Pandas DataFrame ด้วยมือ\n",
    "import pandas as pd\n",
    "\n",
    "sample_df = pd.DataFrame(sample_data, columns=[\"total_price\"]) # แปลงเป็น pandas\n",
    "\n",
    "# Plot ด้วย seaborn\n",
    "import seaborn as sns\n",
    "import matplotlib.pyplot as plt\n",
    "\n",
    "sns.boxplot(data=sample_df, x=\"total_price\")\n",
    "plt.show()\n"
   ]
  },
  {
   "cell_type": "markdown",
   "id": "dd06c56c",
   "metadata": {},
   "source": [
    "✅ สิ่งที่เห็นในกราฟ:"
   ]
  },
  {
   "cell_type": "markdown",
   "id": "86f6b59f",
   "metadata": {},
   "source": [
    "- เจอ outlier ด้านขวาสุดมีค่าประมาณ 10000"
   ]
  },
  {
   "cell_type": "code",
   "execution_count": 18,
   "id": "65a29647",
   "metadata": {},
   "outputs": [
    {
     "name": "stdout",
     "output_type": "stream",
     "text": [
      "+--------+-------------+--------+--------------+--------+--------------+--------------+----------+-----------+\n",
      "|order_id|   book_title|category|store_location|quantity|price_per_unit|payment_method|order_date|total_price|\n",
      "+--------+-------------+--------+--------------+--------+--------------+--------------+----------+-----------+\n",
      "|    1075|Atomic Habits| History|        Phuket|       1|        214.01|          Cash| 21/4/2024|     9999.0|\n",
      "+--------+-------------+--------+--------------+--------+--------------+--------------+----------+-----------+\n",
      "\n"
     ]
    }
   ],
   "source": [
    "df_cleaned.filter((col(\"total_price\") < lower_bound) | (col(\"total_price\") > upper_bound)).show()"
   ]
  },
  {
   "cell_type": "markdown",
   "id": "731e5252",
   "metadata": {},
   "source": [
    " ##### เลือกว่าจะจัดการ outlier อย่างไร\n",
    "\n",
    "- ❌ ตัดทิ้งเลย: ถ้ารู้ว่าเป็น noise หรือ error\n",
    "\n",
    "- 🔄 แทนที่ด้วย median/mean: ถ้าไม่อยากให้เสีย record ไป\n",
    "\n",
    "- ✅ เก็บไว้แยกวิเคราะห์ต่างหาก: ถ้าอยากศึกษาเฉพาะกลุ่มราคาสูง/ต่ำผิดปกติ"
   ]
  },
  {
   "cell_type": "markdown",
   "id": "ed1e7e66",
   "metadata": {},
   "source": [
    "Filter แยกข้อมูลที่เป็น outlier และไม่เป็นออกจากกัน"
   ]
  },
  {
   "cell_type": "markdown",
   "id": "b6cf49f2",
   "metadata": {},
   "source": [
    "- อาจดูหรือวิเคราะห์เฉพาะ outlier ถ้าต้องการ เช่น เอา outlier ไปดูว่าร้านไหนขายแพงผิดปกติ หรือมี error data"
   ]
  },
  {
   "cell_type": "code",
   "execution_count": 19,
   "id": "70d38296",
   "metadata": {},
   "outputs": [],
   "source": [
    "# ข้อมูลที่ไม่ใช่ outlier\n",
    "df_no_outlier = df_cleaned.filter((col(\"total_price\") >= lower_bound) & (col(\"total_price\") <= upper_bound))\n",
    "\n",
    "# ข้อมูลที่เป็น outlier\n",
    "df_outlier = df_cleaned.filter((col(\"total_price\") < lower_bound) | (col(\"total_price\") > upper_bound))"
   ]
  },
  {
   "cell_type": "markdown",
   "id": "a07e000d",
   "metadata": {},
   "source": [
    "ลองหาค่าที่เป็น outlier ใหม่ดู"
   ]
  },
  {
   "cell_type": "code",
   "execution_count": 20,
   "id": "8ed7c44e",
   "metadata": {},
   "outputs": [
    {
     "name": "stdout",
     "output_type": "stream",
     "text": [
      "+--------+----------+--------+--------------+--------+--------------+--------------+----------+-----------+\n",
      "|order_id|book_title|category|store_location|quantity|price_per_unit|payment_method|order_date|total_price|\n",
      "+--------+----------+--------+--------------+--------+--------------+--------------+----------+-----------+\n",
      "+--------+----------+--------+--------------+--------+--------------+--------------+----------+-----------+\n",
      "\n"
     ]
    }
   ],
   "source": [
    "df_no_outlier.filter((col(\"total_price\") < lower_bound) | (col(\"total_price\") > upper_bound)).show()"
   ]
  },
  {
   "cell_type": "code",
   "execution_count": 21,
   "id": "425ec19a",
   "metadata": {},
   "outputs": [
    {
     "data": {
      "image/png": "[encoded data removed]",
      "text/plain": [
       "<Figure size 640x480 with 1 Axes>"
      ]
     },
     "metadata": {},
     "output_type": "display_data"
    }
   ],
   "source": [
    "# Sample ใหม่จาก df_no_outlier\n",
    "sample_no_outlier = df_no_outlier.select(\"total_price\").sample(fraction=0.1, seed=42).limit(1000).collect()\n",
    "sample_no_outlier_df = pd.DataFrame(sample_no_outlier, columns=[\"total_price\"])\n",
    "\n",
    "sns.boxplot(data=sample_no_outlier_df, x=\"total_price\")\n",
    "plt.title(\"After Removing Outliers\")\n",
    "plt.show()"
   ]
  },
  {
   "cell_type": "markdown",
   "id": "a1a51464",
   "metadata": {},
   "source": [
    "✅ สิ่งที่เห็นในกราฟ:"
   ]
  },
  {
   "cell_type": "markdown",
   "id": "fcad117e",
   "metadata": {},
   "source": [
    "\n",
    "\n",
    "- Median (Q2): เส้นกลางกล่อง อยู่ที่ประมาณ 1000 → เป็นค่ากลางของ total_price\n",
    "\n",
    "- Q1 (25%): ขอบล่างของกล่องอยู่ที่ประมาณ 350\n",
    "\n",
    "- Q3 (75%): ขอบบนของกล่องอยู่ที่ประมาณ 1300\n",
    "\n",
    "- ไม่มีจุด outlier: ไม่มีจุด ● ที่อยู่นอก whiskers\n",
    "\n",
    "  Whiskers:\n",
    "  - ด้านซ้ายสิ้นสุดประมาณ 350\n",
    "  \n",
    "  - ด้านขวาสิ้นสุดประมาณ 1300"
   ]
  },
  {
   "cell_type": "code",
   "execution_count": 22,
   "id": "f50dc9b4",
   "metadata": {},
   "outputs": [
    {
     "name": "stdout",
     "output_type": "stream",
     "text": [
      "+-------+------------------+\n",
      "|summary|       total_price|\n",
      "+-------+------------------+\n",
      "|  count|                97|\n",
      "|   mean| 756.7914432989693|\n",
      "| stddev|417.24927537382064|\n",
      "|    min|            152.88|\n",
      "|    max|           1700.05|\n",
      "+-------+------------------+\n",
      "\n"
     ]
    }
   ],
   "source": [
    "df_no_outlier.describe([\"total_price\"]).show()"
   ]
  },
  {
   "cell_type": "markdown",
   "id": "0c31cb4c",
   "metadata": {},
   "source": [
    "ลองนับจำนวน count ที่ได้จากการ clean ทั้งหมดดู"
   ]
  },
  {
   "cell_type": "code",
   "execution_count": 23,
   "id": "fbf29da0",
   "metadata": {},
   "outputs": [
    {
     "name": "stdout",
     "output_type": "stream",
     "text": [
      "+--------------+----------------+--------------+--------------------+--------------+--------------------+--------------------+----------------+-----------------+\n",
      "|order_id_count|book_title_count|category_count|store_location_count|quantity_count|price_per_unit_count|payment_method_count|order_date_count|total_price_count|\n",
      "+--------------+----------------+--------------+--------------------+--------------+--------------------+--------------------+----------------+-----------------+\n",
      "|            97|              97|            97|                  97|            97|                  97|                  97|              97|               97|\n",
      "+--------------+----------------+--------------+--------------------+--------------+--------------------+--------------------+----------------+-----------------+\n",
      "\n"
     ]
    }
   ],
   "source": [
    "from pyspark.sql import functions as F\n",
    "\n",
    "df_no_outlier.select([F.count(c).alias(f\"{c}_count\") for c in df_no_outlier.columns]).show()\n"
   ]
  },
  {
   "cell_type": "markdown",
   "id": "8804921b",
   "metadata": {},
   "source": [
    "### 4. Data Cleaning"
   ]
  },
  {
   "cell_type": "markdown",
   "id": "586fe4ba",
   "metadata": {},
   "source": [
    "#### ตัวอย่างการทำความสะอาดข้อมูล"
   ]
  },
  {
   "cell_type": "markdown",
   "id": "ef5da5e3",
   "metadata": {},
   "source": [
    "##### 4.1 Convert Data Types"
   ]
  },
  {
   "cell_type": "markdown",
   "id": "c55bacbc",
   "metadata": {},
   "source": [
    "- แปลง column ประเภท string เช่น date เป็นแบบ date type ที่เหมาะสม"
   ]
  },
  {
   "cell_type": "code",
   "execution_count": 26,
   "id": "b0a0e7d5",
   "metadata": {},
   "outputs": [
    {
     "name": "stdout",
     "output_type": "stream",
     "text": [
      "root\n",
      " |-- order_id: integer (nullable = true)\n",
      " |-- book_title: string (nullable = true)\n",
      " |-- category: string (nullable = true)\n",
      " |-- store_location: string (nullable = true)\n",
      " |-- quantity: integer (nullable = true)\n",
      " |-- price_per_unit: double (nullable = true)\n",
      " |-- payment_method: string (nullable = true)\n",
      " |-- order_date: string (nullable = true)\n",
      " |-- total_price: double (nullable = true)\n",
      "\n"
     ]
    }
   ],
   "source": [
    "df_no_outlier.printSchema()"
   ]
  },
  {
   "cell_type": "markdown",
   "id": "491ae598",
   "metadata": {},
   "source": [
    "- แปลง `order_date` เป็น type date และจัด formate"
   ]
  },
  {
   "cell_type": "code",
   "execution_count": 41,
   "id": "689ea4c7",
   "metadata": {},
   "outputs": [
    {
     "name": "stdout",
     "output_type": "stream",
     "text": [
      "+--------+-------------+---------+--------------+--------+--------------+--------------+----------+-----------+\n",
      "|order_id|   book_title| category|store_location|quantity|price_per_unit|payment_method|order_date|total_price|\n",
      "+--------+-------------+---------+--------------+--------+--------------+--------------+----------+-----------+\n",
      "|    1001|The Alchemist|  History|    Chiang Mai|       5|        221.19|          Cash|2024-05-24|    1105.95|\n",
      "|    1002|Atomic Habits|  Finance|        Phuket|       5|        301.57|   Credit Card|2024-06-09|    1507.85|\n",
      "|    1003|     Becoming|  History|       Bangkok|       1|        152.88|   Credit Card|2024-06-05|     152.88|\n",
      "|    1004|Atomic Habits|Self-Help|       Bangkok|       5|        173.21|          Cash|2024-05-20|     866.05|\n",
      "|    1005|Atomic Habits|  Finance|     Khon Kaen|       3|         159.2|          Cash|2024-02-15|      477.6|\n",
      "+--------+-------------+---------+--------------+--------+--------------+--------------+----------+-----------+\n",
      "only showing top 5 rows\n",
      "\n"
     ]
    }
   ],
   "source": [
    "from pyspark.sql.functions import to_date\n",
    "\n",
    "# แปลง string to DateType ด้วย to_date\n",
    "df_transformed = df_no_outlier.withColumn(\"order_date\", to_date(\"order_date\", \"d/M/yyyy\"))\n",
    "\n",
    "df_transformed.show(5)"
   ]
  },
  {
   "cell_type": "markdown",
   "id": "d68aeddf",
   "metadata": {},
   "source": [
    "✅ คำอธิบาย:"
   ]
  },
  {
   "cell_type": "markdown",
   "id": "2a4c8a43",
   "metadata": {},
   "source": [
    "- `\"order_date\"`: คือชื่อ column เดิมที่เป็น string\n",
    "\n",
    "- `\"d/M/yyyy\"`: รูปแบบของวันที่ที่คุณมีอยู่ — วันที่ไม่ต้องมี leading zero เช่น 21/4/2024\n",
    "\n",
    "- `to_date(...)`: แปลง string เป็นชนิด `DateType`"
   ]
  },
  {
   "cell_type": "code",
   "execution_count": 42,
   "id": "60932a14",
   "metadata": {},
   "outputs": [
    {
     "name": "stdout",
     "output_type": "stream",
     "text": [
      "root\n",
      " |-- order_id: integer (nullable = true)\n",
      " |-- book_title: string (nullable = true)\n",
      " |-- category: string (nullable = true)\n",
      " |-- store_location: string (nullable = true)\n",
      " |-- quantity: integer (nullable = true)\n",
      " |-- price_per_unit: double (nullable = true)\n",
      " |-- payment_method: string (nullable = true)\n",
      " |-- order_date: date (nullable = true)\n",
      " |-- total_price: double (nullable = true)\n",
      "\n"
     ]
    }
   ],
   "source": [
    "df_transformed.printSchema()"
   ]
  },
  {
   "cell_type": "markdown",
   "id": "acbbdac6",
   "metadata": {},
   "source": [
    "- แปลง `order_date` จาก Type String เป็น Date Type แล้ว"
   ]
  },
  {
   "cell_type": "markdown",
   "id": "aaa91f73",
   "metadata": {},
   "source": [
    "##### 4.2 Handle Missing or Incorrect Data"
   ]
  },
  {
   "cell_type": "markdown",
   "id": "c332ce3a",
   "metadata": {},
   "source": [
    "- ฉันทำไปแล้วในข้อที่ 3 จัดการข้อมูลที่เป็น missing และ outlier"
   ]
  },
  {
   "cell_type": "markdown",
   "id": "4e4ca84c",
   "metadata": {},
   "source": [
    "### 5. Feature Engineering / Transfoemation"
   ]
  },
  {
   "cell_type": "markdown",
   "id": "b75bdfc8",
   "metadata": {},
   "source": [
    "ขั้นตอนนี้มีเป้าหมายเพื่อ ปรับปรุงคุณภาพของข้อมูล ให้เหมาะกับการวิเคราะห์หรือส่งต่อไปยังขั้นตอน downstream (เช่น ML หรือ Dashboard)"
   ]
  },
  {
   "cell_type": "markdown",
   "id": "2d2c6c64",
   "metadata": {},
   "source": [
    "##### 5.1 สร้าง revenue_per_item (ราคาขายต่อชิ้นจริง)"
   ]
  },
  {
   "cell_type": "markdown",
   "id": "8ffac45b",
   "metadata": {},
   "source": [
    "- ถ้าสนใจว่าราคาจริงๆ ที่ขายได้เฉลี่ยต่อชิ้นเท่าไร:"
   ]
  },
  {
   "cell_type": "code",
   "execution_count": 43,
   "id": "1f1bea10",
   "metadata": {},
   "outputs": [
    {
     "name": "stdout",
     "output_type": "stream",
     "text": [
      "+--------+-------------+---------+--------------+--------+--------------+--------------+----------+-----------+----------------+\n",
      "|order_id|   book_title| category|store_location|quantity|price_per_unit|payment_method|order_date|total_price|revenue_per_unit|\n",
      "+--------+-------------+---------+--------------+--------+--------------+--------------+----------+-----------+----------------+\n",
      "|    1001|The Alchemist|  History|    Chiang Mai|       5|        221.19|          Cash|2024-05-24|    1105.95|          221.19|\n",
      "|    1002|Atomic Habits|  Finance|        Phuket|       5|        301.57|   Credit Card|2024-06-09|    1507.85|          301.57|\n",
      "|    1003|     Becoming|  History|       Bangkok|       1|        152.88|   Credit Card|2024-06-05|     152.88|          152.88|\n",
      "|    1004|Atomic Habits|Self-Help|       Bangkok|       5|        173.21|          Cash|2024-05-20|     866.05|          173.21|\n",
      "|    1005|Atomic Habits|  Finance|     Khon Kaen|       3|         159.2|          Cash|2024-02-15|      477.6|           159.2|\n",
      "+--------+-------------+---------+--------------+--------+--------------+--------------+----------+-----------+----------------+\n",
      "only showing top 5 rows\n",
      "\n"
     ]
    }
   ],
   "source": [
    "from pyspark.sql.functions import round\n",
    "\n",
    "df_transformed = df_transformed.withColumn(\"revenue_per_unit\", round(df_transformed.total_price / df_transformed.quantity, 2))\n",
    "\n",
    "df_transformed.show(5)"
   ]
  },
  {
   "cell_type": "markdown",
   "id": "63f97fb7",
   "metadata": {},
   "source": [
    "##### 5.2 Extract Year and Month"
   ]
  },
  {
   "cell_type": "markdown",
   "id": "8110648b",
   "metadata": {},
   "source": [
    "- ดึง year, month ออกจากวันที่เพื่อใช้ในการสรุปยอดขายรายเดือน"
   ]
  },
  {
   "cell_type": "code",
   "execution_count": 44,
   "id": "a956a94d",
   "metadata": {},
   "outputs": [
    {
     "name": "stdout",
     "output_type": "stream",
     "text": [
      "+--------+-------------+---------+--------------+--------+--------------+--------------+----------+-----------+----------------+-----+----+\n",
      "|order_id|   book_title| category|store_location|quantity|price_per_unit|payment_method|order_date|total_price|revenue_per_unit|month|year|\n",
      "+--------+-------------+---------+--------------+--------+--------------+--------------+----------+-----------+----------------+-----+----+\n",
      "|    1001|The Alchemist|  History|    Chiang Mai|       5|        221.19|          Cash|2024-05-24|    1105.95|          221.19|    5|2024|\n",
      "|    1002|Atomic Habits|  Finance|        Phuket|       5|        301.57|   Credit Card|2024-06-09|    1507.85|          301.57|    6|2024|\n",
      "|    1003|     Becoming|  History|       Bangkok|       1|        152.88|   Credit Card|2024-06-05|     152.88|          152.88|    6|2024|\n",
      "|    1004|Atomic Habits|Self-Help|       Bangkok|       5|        173.21|          Cash|2024-05-20|     866.05|          173.21|    5|2024|\n",
      "|    1005|Atomic Habits|  Finance|     Khon Kaen|       3|         159.2|          Cash|2024-02-15|      477.6|           159.2|    2|2024|\n",
      "+--------+-------------+---------+--------------+--------+--------------+--------------+----------+-----------+----------------+-----+----+\n",
      "only showing top 5 rows\n",
      "\n"
     ]
    }
   ],
   "source": [
    "from pyspark.sql.functions import month, year\n",
    "\n",
    "df_transformed = df_transformed.withColumn(\"month\", month(\"order_date\")) \\\n",
    "                               .withColumn(\"year\", year(\"order_date\"))\n",
    "\n",
    "df_transformed.show(5)"
   ]
  },
  {
   "cell_type": "markdown",
   "id": "a5754caa",
   "metadata": {},
   "source": [
    "##### 5.3 Season (ฤดู) จากเดือน:"
   ]
  },
  {
   "cell_type": "markdown",
   "id": "7fad395f",
   "metadata": {},
   "source": [
    "- เพิ่มคอลัมน์ระบุฤดูของไทย:"
   ]
  },
  {
   "cell_type": "code",
   "execution_count": 45,
   "id": "376ced32",
   "metadata": {},
   "outputs": [
    {
     "name": "stdout",
     "output_type": "stream",
     "text": [
      "+--------+-------------+---------+--------------+--------+--------------+--------------+----------+-----------+----------------+-----+----+------+\n",
      "|order_id|   book_title| category|store_location|quantity|price_per_unit|payment_method|order_date|total_price|revenue_per_unit|month|year|season|\n",
      "+--------+-------------+---------+--------------+--------+--------------+--------------+----------+-----------+----------------+-----+----+------+\n",
      "|    1001|The Alchemist|  History|    Chiang Mai|       5|        221.19|          Cash|2024-05-24|    1105.95|          221.19|    5|2024| Rainy|\n",
      "|    1002|Atomic Habits|  Finance|        Phuket|       5|        301.57|   Credit Card|2024-06-09|    1507.85|          301.57|    6|2024| Rainy|\n",
      "|    1003|     Becoming|  History|       Bangkok|       1|        152.88|   Credit Card|2024-06-05|     152.88|          152.88|    6|2024| Rainy|\n",
      "|    1004|Atomic Habits|Self-Help|       Bangkok|       5|        173.21|          Cash|2024-05-20|     866.05|          173.21|    5|2024| Rainy|\n",
      "|    1005|Atomic Habits|  Finance|     Khon Kaen|       3|         159.2|          Cash|2024-02-15|      477.6|           159.2|    2|2024|   Hot|\n",
      "+--------+-------------+---------+--------------+--------+--------------+--------------+----------+-----------+----------------+-----+----+------+\n",
      "only showing top 5 rows\n",
      "\n"
     ]
    }
   ],
   "source": [
    "from pyspark.sql.functions import when\n",
    "\n",
    "df_transformed = df_transformed.withColumn(\"season\", \n",
    "    when(df_transformed.month.isin(11, 12, 1), \"Cool\")\n",
    "    .when(df_transformed.month.isin(2, 3, 4), \"Hot\")\n",
    "    .when(df_transformed.month.isin(5, 6, 7, 8, 9, 10), \"Rainy\")\n",
    ")\n",
    "\n",
    "df_transformed.show(5)"
   ]
  },
  {
   "cell_type": "markdown",
   "id": "29f99b87",
   "metadata": {},
   "source": [
    "### 6. Aggregation and Summary"
   ]
  },
  {
   "cell_type": "markdown",
   "id": "ad1a625d",
   "metadata": {},
   "source": [
    "##### 6.1 Monthly Sales"
   ]
  },
  {
   "cell_type": "markdown",
   "id": "c42a2c7a",
   "metadata": {},
   "source": [
    "- รวมยอดขายตามเดือนเพื่อดู performance รายเดือน"
   ]
  },
  {
   "cell_type": "code",
   "execution_count": 53,
   "id": "2710aa63",
   "metadata": {},
   "outputs": [
    {
     "name": "stdout",
     "output_type": "stream",
     "text": [
      "+----+-----+-------------+\n",
      "|year|month|monthly_total|\n",
      "+----+-----+-------------+\n",
      "|2024|    1|     10702.82|\n",
      "|2024|    2|     14087.61|\n",
      "|2024|    3|     11524.72|\n",
      "|2024|    4|     12941.01|\n",
      "|2024|    5|     10307.73|\n",
      "|2024|    6|     13844.88|\n",
      "+----+-----+-------------+\n",
      "\n"
     ]
    }
   ],
   "source": [
    "from pyspark.sql.functions import sum, round\n",
    "\n",
    "monthly_sales = (\n",
    "    df_transformed\n",
    "    .groupBy(\"year\", \"month\") # group by คือเอาแค่ที่ซ้ำ\n",
    "    .agg(round(sum(\"total_price\"), 2).alias(\"monthly_total\")) # sum คือรวม round ใช้เพื่อแสดงทศนิยมแค่ 2 ตำแหน่ง / alias ตั้งชื่อ col ใหม่\n",
    "    .orderBy(\"year\", \"month\") # order คือเรียงลำดับ\n",
    ")\n",
    "\n",
    "monthly_sales.show()"
   ]
  },
  {
   "cell_type": "markdown",
   "id": "8966a16e",
   "metadata": {},
   "source": [
    "##### 6.2 Top Selling Books"
   ]
  },
  {
   "cell_type": "markdown",
   "id": "085e6396",
   "metadata": {},
   "source": [
    "- หาหนังสือขายดีอันดับต้นๆ จากยอดขายรวม"
   ]
  },
  {
   "cell_type": "code",
   "execution_count": 54,
   "id": "cddb93a3",
   "metadata": {},
   "outputs": [
    {
     "name": "stdout",
     "output_type": "stream",
     "text": [
      "+--------------------+-------------+\n",
      "|          book_title|total_revenue|\n",
      "+--------------------+-------------+\n",
      "|       Atomic Habits|     14004.57|\n",
      "|            Becoming|     10610.69|\n",
      "|            Educated|     12514.54|\n",
      "|       The Alchemist|     17483.52|\n",
      "|The Midnight Library|     18795.45|\n",
      "+--------------------+-------------+\n",
      "\n"
     ]
    }
   ],
   "source": [
    "from pyspark.sql.functions import sum, round\n",
    "\n",
    "top_books = (\n",
    "    df_transformed\n",
    "    .groupBy(\"book_title\")\n",
    "    .agg(round(sum(\"total_price\"), 2).alias(\"total_revenue\"))\n",
    "    .orderBy(\"book_title\")\n",
    ")\n",
    "\n",
    "top_books.show()\n"
   ]
  },
  {
   "cell_type": "markdown",
   "id": "9f8eb2db",
   "metadata": {},
   "source": [
    "##### สรุปข้อมูลที่ได้\n",
    "\n",
    "- ข้อมูลที่ได้จากการ tranformation\n",
    "\n",
    "  - df_transformed : ข้อมูลทั้งหมด\n",
    "\n",
    "  - monthly_sales : ข้อมูลแสดงยอดขายรายเดือน\n",
    "\n",
    "  - top_books : ข้อมูลแสดงยอดขายทั้งหมดของหนังสือแต่ละเล่ม"
   ]
  },
  {
   "cell_type": "markdown",
   "id": "52ac243c",
   "metadata": {},
   "source": [
    "### 7. Save Transformed Data"
   ]
  },
  {
   "cell_type": "markdown",
   "id": "a0b36809",
   "metadata": {},
   "source": [
    "- บันทึกข้อมูลหลังจาก transform แล้วเป็นไฟล์ CSV สำหรับนำไปใช้ในขั้นตอนถัดไป เช่น Load เข้า Data Warehouse"
   ]
  },
  {
   "cell_type": "markdown",
   "id": "e643e572",
   "metadata": {},
   "source": [
    "✅ Tips"
   ]
  },
  {
   "cell_type": "markdown",
   "id": "37376b1f",
   "metadata": {},
   "source": [
    "- ใช้ lowercase + underscore ในชื่อไฟล์ (ไม่เว้นวรรค)\n",
    "\n",
    "- อย่าลืม .csv และใส่ header=True\n",
    "\n",
    "- ถ้าอยาก versioning ก็เพิ่มวันที่ เช่น _v1, _20240731"
   ]
  },
  {
   "cell_type": "code",
   "execution_count": 56,
   "id": "a7a2aeb2",
   "metadata": {},
   "outputs": [],
   "source": [
    "df_cleaned.write.mode(\"overwrite\").option(\"header\", True).csv(\"../data/processed/book_sales_cleaned.csv\")\n",
    "\n",
    "monthly_sales.write.mode(\"overwrite\").option(\"header\", True).csv(\"../data/output/monthly_sales_summary.csv\")\n",
    "\n",
    "top_books.write.mode(\"overwrite\").option(\"header\", True).csv(\"../data/output/top_books_summary.csv\")"
   ]
  },
  {
   "cell_type": "markdown",
   "id": "be28c557",
   "metadata": {},
   "source": [
    "- ถ้าเป็น Spark บันทึก `.csv` จะถูกเขียนเป็นโฟลเดอร์พร้อมไฟล์หลายพาร์ท (`part-0000...csv`)\n",
    "\n",
    "- ถ้าอยากรวมเป็นไฟล์เดียวไว้ใช้ภายหลังได้ด้วย Pandas หลังจาก `.toPandas()` แล้ว `.to_csv()` อีกครั้ง"
   ]
  }
 ],
 "metadata": {
  "kernelspec": {
   "display_name": "Python 3",
   "language": "python",
   "name": "python3"
  },
  "language_info": {
   "codemirror_mode": {
    "name": "ipython",
    "version": 3
   },
   "file_extension": ".py",
   "mimetype": "text/x-python",
   "name": "python",
   "nbconvert_exporter": "python",
   "pygments_lexer": "ipython3",
   "version": "3.10.0"
  }
 },
 "nbformat": 4,
 "nbformat_minor": 5
}
